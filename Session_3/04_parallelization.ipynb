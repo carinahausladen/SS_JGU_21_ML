{
 "cells": [
  {
   "cell_type": "code",
   "execution_count": 1,
   "metadata": {
    "slideshow": {
     "slide_type": "skip"
    },
    "tags": []
   },
   "outputs": [],
   "source": [
    "import datetime\n",
    "now = datetime.datetime.now()"
   ]
  },
  {
   "cell_type": "markdown",
   "metadata": {
    "slideshow": {
     "slide_type": "slide"
    },
    "tags": []
   },
   "source": [
    "# Parallelization\n",
    "\n",
    "## Summer School JGU Mainz — Advanced Methods in Behavioral Economics, 2021\n",
    "\n",
    "### Carina I. Hausladen"
   ]
  },
  {
   "cell_type": "code",
   "execution_count": 2,
   "metadata": {
    "slideshow": {
     "slide_type": "fragment"
    },
    "tags": []
   },
   "outputs": [
    {
     "name": "stdout",
     "output_type": "stream",
     "text": [
      "2021-09-25\n"
     ]
    }
   ],
   "source": [
    "print(now.strftime(\"%Y-%m-%d\"))"
   ]
  },
  {
   "cell_type": "markdown",
   "metadata": {
    "pycharm": {
     "name": "#%% md\n"
    },
    "slideshow": {
     "slide_type": "slide"
    },
    "tags": []
   },
   "source": [
    "# Goal\n",
    "In this tutorial, we search for the best combination of X and y."
   ]
  },
  {
   "cell_type": "code",
   "execution_count": 3,
   "metadata": {
    "slideshow": {
     "slide_type": "skip"
    },
    "tags": []
   },
   "outputs": [],
   "source": [
    "import itertools\n",
    "import multiprocessing as mp\n",
    "import pickle\n",
    "import warnings\n",
    "warnings.simplefilter(\"ignore\")\n",
    "\n",
    "import gensim\n",
    "import pandas as pd\n",
    "import spacy\n",
    "from gensim.models.word2vec import Word2Vec\n",
    "from imblearn.over_sampling import RandomOverSampler\n",
    "\n",
    "from utils.setup import prepare_X_y\n",
    "from utils.prepare_feat import prepare_feat"
   ]
  },
  {
   "cell_type": "code",
   "execution_count": 4,
   "metadata": {
    "collapsed": false,
    "jupyter": {
     "outputs_hidden": false
    },
    "pycharm": {
     "name": "#%%\n"
    },
    "slideshow": {
     "slide_type": "skip"
    },
    "tags": []
   },
   "outputs": [],
   "source": [
    "ros = RandomOverSampler(random_state=42)\n",
    "warnings.simplefilter('ignore')\n",
    "pd.set_option('max_colwidth', 1000)\n",
    "assert gensim.models.doc2vec.FAST_VERSION > -1, \"This will be painfully slow otherwise.\"\n",
    "workers = mp.cpu_count()\n",
    "\n",
    "nlp = spacy.load(\"de_core_news_sm\") # .venv/bin/python -m spacy download de\n",
    "stop_words = spacy.lang.de.stop_words.STOP_WORDS"
   ]
  },
  {
   "cell_type": "markdown",
   "metadata": {
    "pycharm": {
     "name": "#%% md\n"
    },
    "slideshow": {
     "slide_type": "slide"
    },
    "tags": []
   },
   "source": [
    "# Read and prepare df\n"
   ]
  },
  {
   "cell_type": "code",
   "execution_count": 5,
   "metadata": {
    "collapsed": false,
    "jupyter": {
     "outputs_hidden": false
    },
    "pycharm": {
     "name": "#%%\n"
    },
    "slideshow": {
     "slide_type": "fragment"
    },
    "tags": []
   },
   "outputs": [],
   "source": [
    "df = pd.read_csv('data/chat_hours_simulated.csv')\n",
    "df_spllchckd = pd.read_csv('data/chat_spll_hours_simulated.csv')\n",
    "\n",
    "df = prepare_X_y(df, dv=\"player.hours_stated\")\n",
    "df_spllchckd = prepare_X_y(df_spllchckd,\n",
    "                           dv=\"player.hours_stated\")"
   ]
  },
  {
   "cell_type": "markdown",
   "metadata": {
    "pycharm": {
     "name": "#%% md\n"
    },
    "slideshow": {
     "slide_type": "slide"
    },
    "tags": []
   },
   "source": [
    "# Define loop vars\n",
    "🤓: uncomment those variations you are interested in and run the loop!"
   ]
  },
  {
   "cell_type": "code",
   "execution_count": 6,
   "metadata": {
    "collapsed": false,
    "jupyter": {
     "outputs_hidden": false
    },
    "pycharm": {
     "name": "#%%\n"
    },
    "slideshow": {
     "slide_type": "fragment"
    },
    "tags": []
   },
   "outputs": [],
   "source": [
    "df_vars = {\n",
    "    \"duplicated\": df,\n",
    " #   \"deduplicated\": df,\n",
    " #   \"spell_checked\": df_spllchckd\n",
    "}\n",
    "\n",
    "y_vars = {\n",
    "     \"<10\": 'honest10',\n",
    " #    \"<30\": 'honest30',\n",
    " #    \"<mean\": 'honestmean'\n",
    "}\n",
    "\n",
    "X_vars = {\n",
    "    \"chat_subject\": 'Chat_subject',\n",
    " #   \"chat_group\": 'Chat_group_all',\n",
    " #   \"chat_selected\": 'Chat_sel',\n",
    "}"
   ]
  },
  {
   "cell_type": "markdown",
   "metadata": {
    "pycharm": {
     "name": "#%% md\n"
    },
    "slideshow": {
     "slide_type": "slide"
    },
    "tags": []
   },
   "source": [
    "# Create jobs for loop \n",
    "\n",
    "We use [itertools.product](https://docs.python.org/3/library/itertools.html) to create the Cartesian product of input iterables.\n"
   ]
  },
  {
   "cell_type": "code",
   "execution_count": 7,
   "metadata": {
    "collapsed": false,
    "jupyter": {
     "outputs_hidden": false
    },
    "pycharm": {
     "name": "#%%\n"
    },
    "slideshow": {
     "slide_type": "fragment"
    },
    "tags": []
   },
   "outputs": [
    {
     "name": "stdout",
     "output_type": "stream",
     "text": [
      "1\n"
     ]
    }
   ],
   "source": [
    "results = []\n",
    "jobs = list(itertools.product(*[df_vars.items(), y_vars.items(), X_vars.items()]))\n",
    "print(len(jobs))"
   ]
  },
  {
   "cell_type": "markdown",
   "metadata": {
    "pycharm": {
     "name": "#%% md\n"
    },
    "slideshow": {
     "slide_type": "slide"
    },
    "tags": []
   },
   "source": [
    "# Run Loop\n",
    "\n",
    "Note: importing the function `prepare_feat` instead of defining it within the script makes a difference for joblib.\n",
    "\n",
    "We use [multiprocessing](https://docs.python.org/3/library/multiprocessing.html) to fully leverage multiple processors on my machine. \n",
    "\n",
    "🤓: look into utils/prepare_feat.py. Which combination of vecotrizer and classifier is used?"
   ]
  },
  {
   "cell_type": "code",
   "execution_count": 8,
   "metadata": {
    "collapsed": false,
    "jupyter": {
     "outputs_hidden": false
    },
    "pycharm": {
     "name": "#%%\n"
    },
    "slideshow": {
     "slide_type": "fragment"
    },
    "tags": []
   },
   "outputs": [
    {
     "name": "stderr",
     "output_type": "stream",
     "text": [
      "/Users/carinah/SS_JGU_21_ML_DEV/.venv/lib/python3.9/site-packages/joblib/parallel.py:733: UserWarning: Loky-backed parallel loops cannot be called in a multiprocessing, setting n_jobs=1\n",
      "  n_jobs = self._backend.configure(n_jobs=self.n_jobs, parallel=self,\n"
     ]
    },
    {
     "name": "stdout",
     "output_type": "stream",
     "text": [
      "duplicated <10 chat_subject\n",
      "finished DocPreprocess\n",
      "finished split\n",
      "start gridsearch\n",
      "finished gridsearch\n",
      "F1: 0.388 | Pr: 0.292 | Re: 0.700 | AUC: 0.559 | Accuracy: 0.523 \n",
      "\n",
      "15.648609638214111\n"
     ]
    }
   ],
   "source": [
    "pool = mp.Pool(10)\n",
    "results = [pool.apply(prepare_feat, args=(df, d, y, x)) for d, y, x in jobs]  # paralell processing\n",
    "pool.close()"
   ]
  },
  {
   "cell_type": "markdown",
   "metadata": {
    "pycharm": {
     "name": "#%% md\n"
    },
    "slideshow": {
     "slide_type": "skip"
    },
    "tags": []
   },
   "source": [
    "# Save Results\n",
    "🤓: Print best hyperparameter of your model."
   ]
  },
  {
   "cell_type": "code",
   "execution_count": 9,
   "metadata": {
    "collapsed": false,
    "jupyter": {
     "outputs_hidden": false
    },
    "pycharm": {
     "name": "#%%\n"
    },
    "slideshow": {
     "slide_type": "skip"
    },
    "tags": []
   },
   "outputs": [],
   "source": [
    "with open('data/interim/df_y_x_over.pickle', 'wb') as fp:\n",
    "    pickle.dump(results, fp)"
   ]
  }
 ],
 "metadata": {
  "kernelspec": {
   "display_name": "Python 3 (ipykernel)",
   "language": "python",
   "name": "python3"
  },
  "language_info": {
   "codemirror_mode": {
    "name": "ipython",
    "version": 3
   },
   "file_extension": ".py",
   "mimetype": "text/x-python",
   "name": "python",
   "nbconvert_exporter": "python",
   "pygments_lexer": "ipython3",
   "version": "3.9.6"
  }
 },
 "nbformat": 4,
 "nbformat_minor": 4
}