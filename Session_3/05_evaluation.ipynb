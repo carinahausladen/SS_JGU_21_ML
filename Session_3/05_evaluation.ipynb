{
 "cells": [
  {
   "cell_type": "code",
   "execution_count": 1,
   "metadata": {
    "pycharm": {
     "name": "#%%\n"
    },
    "slideshow": {
     "slide_type": "skip"
    },
    "tags": []
   },
   "outputs": [],
   "source": [
    "import datetime\n",
    "now = datetime.datetime.now()"
   ]
  },
  {
   "cell_type": "markdown",
   "metadata": {
    "slideshow": {
     "slide_type": "slide"
    },
    "tags": []
   },
   "source": [
    "# Scoring\n",
    "\n",
    "## Summer School JGU Mainz — Advanced Methods in Behavioral Economics, 2021\n",
    "\n",
    "### Carina I. Hausladen"
   ]
  },
  {
   "cell_type": "code",
   "execution_count": 2,
   "metadata": {
    "slideshow": {
     "slide_type": "fragment"
    },
    "tags": []
   },
   "outputs": [
    {
     "name": "stdout",
     "output_type": "stream",
     "text": [
      "2021-09-28\n"
     ]
    }
   ],
   "source": [
    "print(now.strftime(\"%Y-%m-%d\"))"
   ]
  },
  {
   "cell_type": "code",
   "execution_count": 3,
   "metadata": {
    "collapsed": false,
    "jupyter": {
     "outputs_hidden": false
    },
    "pycharm": {
     "name": "#%%\n"
    },
    "slideshow": {
     "slide_type": "skip"
    },
    "tags": []
   },
   "outputs": [],
   "source": [
    "import textwrap\n",
    "import warnings\n",
    "warnings.simplefilter(\"ignore\")\n",
    "\n",
    "import matplotlib.colors\n",
    "import matplotlib.pyplot as plt\n",
    "import pandas as pd"
   ]
  },
  {
   "cell_type": "code",
   "execution_count": 4,
   "metadata": {
    "collapsed": false,
    "jupyter": {
     "outputs_hidden": false
    },
    "pycharm": {
     "name": "#%%\n"
    },
    "slideshow": {
     "slide_type": "skip"
    },
    "tags": []
   },
   "outputs": [],
   "source": [
    "def dict_to_df_new(d):\n",
    "    d = {(i, j, k): d[i][j][k]\n",
    "         for i in d.keys()\n",
    "         for j in d[i].keys()\n",
    "         for k in d[i][j].keys()\n",
    "         for l in d[i][j][k].keys()}\n",
    "    mux = pd.MultiIndex.from_tuples(d.keys())\n",
    "    return pd.DataFrame(list(d.values()), index=mux)\n",
    "\n",
    "\n",
    "def one_pickle_to_df(path_to_pickle):\n",
    "    results = pd.read_pickle(path_to_pickle)\n",
    "\n",
    "    scores_df = pd.DataFrame()\n",
    "    for n in results:\n",
    "        scores_df = scores_df.append(dict_to_df_new(n))\n",
    "\n",
    "    return scores_df\n",
    "\n",
    "\n",
    "def all_comb(d, path):\n",
    "    columns = ['accuracy', 'precision', 'recall', 'f1score']\n",
    "    for c in columns:\n",
    "        d[c].sort_values().plot(kind=\"barh\", title=c, figsize=(20, 20), color=\"C0\", xlim=(0, 1))\n",
    "        plt.tight_layout()\n",
    "        plt.savefig(path + c + \".pdf\", format=\"PDF\")\n",
    "        plt.close()\n",
    "\n",
    "\n",
    "def best_comb(d, level, path):\n",
    "    cmap = matplotlib.colors.LinearSegmentedColormap.from_list(\"\", [\"royalblue\", \"firebrick\", \"darkorange\",\n",
    "                                                                    \"navy\"])  # define colors\n",
    "    d = d.reset_index()\n",
    "    highest = d.reset_index().groupby(level).idxmax()  # change groupby level to get different variations\n",
    "    highest2 = d.reset_index().loc[highest[\"f1score\"].values]  # select f1score as performance metric\n",
    "    highest2[\"best combination\"] = highest2[level].map(str)\n",
    "    highest2 = highest2.set_index('best combination')\n",
    "    highest2 = highest2.drop(['level_0', 'level_1', 'level_2', 'index'], axis=1)\n",
    "\n",
    "    f = plt.figure(figsize=(6, 4))\n",
    "    ax = highest2.plot(kind='barh', colormap=cmap, ax=f.gca())\n",
    "    ax.set_yticklabels(textwrap.fill(y.get_text(), 15) for y in ax.get_yticklabels())\n",
    "    plt.xlim(0.45, 1)\n",
    "    plt.tight_layout()\n",
    "    plt.legend()\n",
    "    plt.ylabel(\"\")\n",
    "\n",
    "    path_name = path + \"best_comb_\" + level + \".pdf\"\n",
    "    plt.savefig(path_name, format='pdf')\n",
    "    # print(highest2)\n",
    "\n",
    "\n",
    "def best_comb_df(d, level, path):\n",
    "    cmap = matplotlib.colors.LinearSegmentedColormap.from_list(\"\", [\"royalblue\", \"firebrick\", \"darkorange\",\n",
    "                                                                    \"navy\"])  # define colors\n",
    "    d = d.reset_index()\n",
    "    highest = d.reset_index().groupby(level).idxmax()  # change groupby level to get different variations\n",
    "    highest2 = d.reset_index().loc[highest[\"f1score\"].values]  # select f1score as performance metric\n",
    "    highest2[\"best combination\"] = highest2[level].map(str)\n",
    "    highest2 = highest2.set_index('best combination')\n",
    "    highest2 = highest2.drop(['level_0', 'level_1', 'level_2', 'index'], axis=1)\n",
    "    highest2.index.name = None\n",
    "    return highest2"
   ]
  },
  {
   "cell_type": "markdown",
   "metadata": {
    "slideshow": {
     "slide_type": "slide"
    },
    "tags": []
   },
   "source": [
    "# Metrics and Scoring\n",
    "[Koo Ping Shung](https://towardsdatascience.com/accuracy-precision-recall-or-f1-331fb37c5cb9), [Developers Google](https://developers.google.com/machine-learning/crash-course/classification/roc-and-auc)\n",
    "\n",
    "Confusion Matrix\n",
    "```\n",
    "            P R E D I C T E D \n",
    "            \n",
    "         | Negative       | Positive       |\n",
    "--------------------------------------------\n",
    "Negative | True Negative  | False Positive |\n",
    "Positive | False Negative | True Positive  |\n",
    "```"
   ]
  },
  {
   "cell_type": "markdown",
   "metadata": {
    "slideshow": {
     "slide_type": "fragment"
    },
    "tags": []
   },
   "source": [
    "## Accuracy\n",
    "$$ Accuracy = \\frac{\\text{True Positive} + \\text{True Negative}}{\\text{True Positive} + \\text{False Positive}+\\text{True Negative} + \\text{False Negative}} $$"
   ]
  },
  {
   "cell_type": "markdown",
   "metadata": {
    "slideshow": {
     "slide_type": "subslide"
    },
    "tags": []
   },
   "source": [
    "## Precision\n",
    "$$ Precision = \\frac{\\text{True Positive}}{\\text{True Positive} + \\text{False Positive}} $$\n",
    "\n",
    "* Out of those predicted positive, how many of them are actually positive?\n",
    "* Precision is a good measure to determine when the costs of False Positive is high. \n",
    "* Example: In email spam detection, a false positive means that an email that is non-spam (actual negative) has been identified as spam (predicted spam)."
   ]
  },
  {
   "cell_type": "markdown",
   "metadata": {
    "slideshow": {
     "slide_type": "fragment"
    },
    "tags": []
   },
   "source": [
    "## Recall\n",
    "$$ Recall = \\frac{\\text{True Positive}}{\\text{True Positive} + \\text{False Negative}} $$\n",
    "\n",
    "* How many of the actual positives does our model capture through labelling it as positive?\n",
    "* Recall shall be the model metric when there is a high cost associated with a false negative.\n",
    "* Example: If a sick patient (actual positive) goes through the test and is predicted as not sick (predicted negative). The cost associated with false-negative will be extremely high if the sickness is contagious."
   ]
  },
  {
   "cell_type": "markdown",
   "metadata": {
    "slideshow": {
     "slide_type": "fragment"
    },
    "tags": []
   },
   "source": [
    "## F1 Score\n",
    "$$ F1 = 2 \\cdot \\frac{\\text{Precision} \\cdot \\text{Recall}}{\\text{Precision} + \\text{Recall}} $$\n",
    "\n",
    "The F1 Score seeks a balance between precision and recall if there is an uneven class distribution."
   ]
  },
  {
   "cell_type": "markdown",
   "metadata": {
    "slideshow": {
     "slide_type": "slide"
    },
    "tags": []
   },
   "source": [
    "# Plot Loop Results"
   ]
  },
  {
   "cell_type": "code",
   "execution_count": 5,
   "metadata": {
    "collapsed": false,
    "jupyter": {
     "outputs_hidden": false
    },
    "pycharm": {
     "name": "#%%\n"
    },
    "slideshow": {
     "slide_type": "fragment"
    },
    "tags": []
   },
   "outputs": [
    {
     "data": {
      "image/png": "[encoded data removed]",
      "text/plain": [
       "<Figure size 432x288 with 1 Axes>"
      ]
     },
     "metadata": {
      "needs_background": "light"
     },
     "output_type": "display_data"
    },
    {
     "name": "stdout",
     "output_type": "stream",
     "text": [
      "Best accuracy: 0.5232558139534884\n",
      "Best parameter combination: ('duplicated', '<10', 'chat_subject')\n"
     ]
    }
   ],
   "source": [
    "results_2 = one_pickle_to_df('data/interim/df_y_x_over.pickle')\n",
    "\n",
    "all_comb(results_2, \"data/interim/\")\n",
    "best_comb(results_2, \"level_0\", \"data/interim/\")\n",
    "plt.show()\n",
    "\n",
    "result_wo_label = results_2[results_2.index.get_level_values(2) != \"label_group\"]\n",
    "df2 = best_comb_df(result_wo_label, \"level_1\", \"data/interim/\")\n",
    "df2 = best_comb_df(results_2, \"level_2\", \"data/interim/\")\n",
    "\n",
    "print(\"Best accuracy:\", results_2.accuracy.max())\n",
    "print(\"Best parameter combination:\", results_2['accuracy'].idxmax())\n",
    "\n",
    "plt.show()"
   ]
  },
  {
   "cell_type": "markdown",
   "metadata": {
    "slideshow": {
     "slide_type": "slide"
    },
    "tags": []
   },
   "source": [
    "## ROC AUC\n",
    "\n",
    "### ROC \n",
    "* An ROC curve (receiver operating characteristic curve) shows the performance of a model at all classification thresholds. \n",
    "* The curve plots two parameters:\n",
    "\n",
    "$$\\text{True Positive Rate (Recall)} = \\frac{TP} {TP + FN}$$\n",
    "$$\\text{False Positive Rate} = \\frac{FP} {FP + TN}$$\n",
    "\n"
   ]
  },
  {
   "cell_type": "markdown",
   "metadata": {
    "slideshow": {
     "slide_type": "subslide"
    },
    "tags": []
   },
   "source": [
    "🤓: Choose a suitable classifier and reproduce the plot below."
   ]
  },
  {
   "cell_type": "code",
   "execution_count": 6,
   "metadata": {
    "slideshow": {
     "slide_type": "fragment"
    },
    "tags": []
   },
   "outputs": [
    {
     "data": {
      "image/png": "[encoded data removed]",
      "text/plain": [
       "<Figure size 432x288 with 1 Axes>"
      ]
     },
     "metadata": {
      "needs_background": "light"
     },
     "output_type": "display_data"
    }
   ],
   "source": [
    "from utils.roc_example import plot_roc_example\n",
    "plot_roc_example()"
   ]
  },
  {
   "cell_type": "markdown",
   "metadata": {
    "slideshow": {
     "slide_type": "subslide"
    },
    "tags": []
   },
   "source": [
    "### AUC\n",
    "* AUC stands for \"Area under the ROC Curve.\" \n",
    "* It measures the area underneath the ROC curve.\n",
    "* AUC provides an aggregate measure of performance across all possible classification thresholds. \n",
    "* Interpretation: The probability that the model ranks a random positive example more highly than a random negative example. \n",
    "* AUC ranges in value from 0 to 1. \n",
    "* A model whose predictions are 100% wrong has an AUC of 0.0\n",
    "* One whose predictions are 100% correct has an AUC of 1.0."
   ]
  },
  {
   "cell_type": "markdown",
   "metadata": {
    "slideshow": {
     "slide_type": "fragment"
    },
    "tags": []
   },
   "source": [
    "* Example:\n",
    "    * Predictions in ascending order of logistic regression: <br>\n",
    "`N N N N N N N N N P N N N P N P P P P P P` \n",
    "    * AUC represents the probability that a random positive (`P`) example is positioned to the right of a random negative (`N`) example."
   ]
  },
  {
   "cell_type": "markdown",
   "metadata": {
    "slideshow": {
     "slide_type": "subslide"
    },
    "tags": []
   },
   "source": [
    "* Advantages\n",
    "    * Scale-invariant: It measures how well predictions are ranked, rather than their absolute values.\n",
    "    * Classification-threshold-invariant: It measures the quality of the model's predictions irrespective of what classification threshold is chosen.\n",
    "\n",
    "* Disadvantages\n",
    "    * Scale invariance is not always desirable. For example, sometimes we do need well-calibrated probability outputs, and AUC won’t tell us about that. \n",
    "    * Classification-threshold invariance is not always desirable. In cases where there are wide disparities in the cost of false negatives vs. false positives, it may be critical to minimize one type of classification error. For example, when doing email spam detection, you likely want to prioritize minimizing false positives (even if that results in a significant increase of false negatives). AUC isn't a useful metric for this type of optimization."
   ]
  },
  {
   "cell_type": "markdown",
   "metadata": {
    "slideshow": {
     "slide_type": "slide"
    },
    "tags": []
   },
   "source": [
    "# Comparing Performance Across and Within Datasets\n",
    "[Straube and Krell (2014)](https://www.frontiersin.org/articles/10.3389/fncom.2014.00043/full)\n",
    "\n",
    "* The F1 score should be the preferred metric to evaluate a model's performance *within* one dataset\n",
    "* An independent prevalence metric should be consulted when comparing models *across* datasets. \n",
    "* The F1 score is solely interested in the performance of the positive class. Therefore, it is sensitive to different class distributions when different data sets are compared. \n",
    "* By contrast, AUC is prevalence independent because this measure is built from a separate evaluation of the two classes. \n",
    "* AUC is our metric of choice when comparing a model's performance across different thresholds to binarize y, and across two experimental data sets."
   ]
  },
  {
   "cell_type": "markdown",
   "metadata": {
    "slideshow": {
     "slide_type": "slide"
    },
    "tags": []
   },
   "source": [
    "# It's your turn! 🧑‍💻 ~10'"
   ]
  }
 ],
 "metadata": {
  "kernelspec": {
   "display_name": "Python 3 (ipykernel)",
   "language": "python",
   "name": "python3"
  },
  "language_info": {
   "codemirror_mode": {
    "name": "ipython",
    "version": 3
   },
   "file_extension": ".py",
   "mimetype": "text/x-python",
   "name": "python",
   "nbconvert_exporter": "python",
   "pygments_lexer": "ipython3",
   "version": "3.9.6"
  }
 },
 "nbformat": 4,
 "nbformat_minor": 4
}
