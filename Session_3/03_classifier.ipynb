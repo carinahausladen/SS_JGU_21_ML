{
 "cells": [
  {
   "cell_type": "code",
   "execution_count": 1,
   "metadata": {
    "slideshow": {
     "slide_type": "skip"
    },
    "tags": []
   },
   "outputs": [],
   "source": [
    "import datetime\n",
    "now = datetime.datetime.now()"
   ]
  },
  {
   "cell_type": "markdown",
   "metadata": {
    "slideshow": {
     "slide_type": "slide"
    },
    "tags": []
   },
   "source": [
    "# Classifier\n",
    "\n",
    "## Summer School JGU Mainz — Advanced Methods in Behavioral Economics, 2021\n",
    "\n",
    "### Carina I. Hausladen"
   ]
  },
  {
   "cell_type": "code",
   "execution_count": 2,
   "metadata": {
    "slideshow": {
     "slide_type": "fragment"
    },
    "tags": []
   },
   "outputs": [
    {
     "name": "stdout",
     "output_type": "stream",
     "text": [
      "2021-09-25\n"
     ]
    }
   ],
   "source": [
    "print(now.strftime(\"%Y-%m-%d\"))"
   ]
  },
  {
   "cell_type": "markdown",
   "metadata": {
    "pycharm": {
     "name": "#%% md\n"
    },
    "slideshow": {
     "slide_type": "skip"
    },
    "tags": []
   },
   "source": [
    "Large parts of the following code are based on \n",
    "[Anirudh Shenoy](https://towardsdatascience.com/text-classification-with-extremely-small-datasets-333d322caee2)'s tutorial.\n",
    "Pretrained embeddings are obtained from [deepset](https://deepset.ai/german-word-embeddings).\n",
    "\n",
    "- In this notebook, we will learn about different algorithms that can be used for classification tasks.\n",
    "- We will encounter stand-alone classifiers and ensemble methods."
   ]
  },
  {
   "cell_type": "code",
   "execution_count": 3,
   "metadata": {
    "collapsed": false,
    "jupyter": {
     "outputs_hidden": false
    },
    "pycharm": {
     "name": "#%%\n"
    },
    "slideshow": {
     "slide_type": "skip"
    },
    "tags": []
   },
   "outputs": [],
   "source": [
    "import pickle\n",
    "import warnings\n",
    "warnings.simplefilter(\"ignore\")\n",
    "\n",
    "import pandas as pd\n",
    "import numpy as np\n",
    "from imblearn.over_sampling import RandomOverSampler\n",
    "\n",
    "try:\n",
    "    from pymagnitude import Magnitude\n",
    "except ModuleNotFoundError:  # workaround for weird bug\n",
    "    from pymagnitude import Magnitude\n",
    "\n",
    "from sklearn.feature_extraction.text import TfidfVectorizer\n",
    "\n",
    "from utils.setup import prepare_docs\n",
    "from utils.strt_grp_sffl_splt import str_grp_splt\n",
    "from utils.utility import print_model_metrics, run_grid_search, fit_n_times, tfdf_embdngs"
   ]
  },
  {
   "cell_type": "code",
   "execution_count": 4,
   "metadata": {
    "collapsed": false,
    "jupyter": {
     "outputs_hidden": false
    },
    "pycharm": {
     "name": "#%%\n"
    },
    "slideshow": {
     "slide_type": "skip"
    },
    "tags": []
   },
   "outputs": [],
   "source": [
    "df = pd.read_csv('data/chat_hours_simulated.csv')  \n",
    "df_new, all_docs = prepare_docs(df, y=\"honestmean\", X=\"Chat_subject\", dv=\"player.hours_stated\")\n",
    "all_docs.new_docs = [x if len(x) != 0 else \"kein_chat\" for x in all_docs.new_docs]\n",
    "ros = RandomOverSampler(random_state=42, sampling_strategy='minority')"
   ]
  },
  {
   "cell_type": "markdown",
   "metadata": {
    "pycharm": {
     "name": "#%% md\n"
    },
    "slideshow": {
     "slide_type": "slide"
    },
    "tags": []
   },
   "source": [
    "# Embeddings \n",
    "- To compare the preformance of various classifiers, we will work with one type of embeddings.\n",
    "- We will use pretrained, tf-idf weighted Word2Vec embeddings."
   ]
  },
  {
   "cell_type": "code",
   "execution_count": 5,
   "metadata": {
    "collapsed": false,
    "jupyter": {
     "outputs_hidden": false
    },
    "pycharm": {
     "name": "#%%\n"
    },
    "slideshow": {
     "slide_type": "fragment"
    },
    "tags": []
   },
   "outputs": [
    {
     "name": "stderr",
     "output_type": "stream",
     "text": [
      "100%|████████████████████████████████████████████████████████████████████████████████████████████████| 351/351 [00:12<00:00, 28.68it/s]\n"
     ]
    }
   ],
   "source": [
    "tfidf = TfidfVectorizer(input='content', lowercase=False, preprocessor=lambda x: x)\n",
    "w2v = Magnitude('data/w2v_vec.magnitude')\n",
    "tfidf.fit(all_docs.new_docs)\n",
    "idf_dict = dict(zip(tfidf.get_feature_names(), tfidf.idf_))\n",
    "X_tfidf_w2v_pre = tfdf_embdngs(all_docs.new_docs, w2v, dict_tf=idf_dict)\n",
    "\n",
    "train_idx, test_idx = str_grp_splt(df_new,\n",
    "                                   grp_col_name=\"group\",\n",
    "                                   y_col_name=\"honestmean\",\n",
    "                                   train_share=0.8)\n",
    "train_X = X_tfidf_w2v_pre[train_idx]\n",
    "test_X = X_tfidf_w2v_pre[test_idx]\n",
    "train_y = df_new[\"honestmean\"][train_idx]\n",
    "test_y = df_new[\"honestmean\"][test_idx]\n",
    "\n",
    "train_X, train_y = ros.fit_resample(train_X, train_y)"
   ]
  },
  {
   "cell_type": "markdown",
   "metadata": {
    "slideshow": {
     "slide_type": "slide"
    },
    "tags": []
   },
   "source": [
    "# Cross-validation\n",
    "[scikit-learn](https://scikit-learn.org/stable/modules/cross_validation.html#cross-validation)\n",
    "\n",
    "- Learning the parameters of a prediction function and testing it on the same data is a methodological mistake.\n",
    "- The model would have a perfect score but it would fail to predict on unseen data (overfitting!). \n",
    "- To avoid it, it is common practice to hold out part of the available data as a test set.  "
   ]
  },
  {
   "cell_type": "markdown",
   "metadata": {
    "slideshow": {
     "slide_type": "fragment"
    },
    "tags": []
   },
   "source": [
    "- When evaluating hyperparameters for estimators, we risk to overfit on the test set.\n",
    "- To solve this problem, we partition the data into three sets:\n",
    "    - Training proceeds on the training set.\n",
    "    - Evaluation is done on the validation set.\n",
    "    - Final evaluation can be done on the test set.\n",
    "\n",
    "- Problem: \n",
    "    - We drastically reduce the number of samples which can be used for learning the model. \n",
    "    - The results can depend on a particular random choice for the splits."
   ]
  },
  {
   "cell_type": "markdown",
   "metadata": {
    "slideshow": {
     "slide_type": "fragment"
    },
    "tags": []
   },
   "source": [
    "- Solution: cross-validation \n",
    "    - A test set is held out for final evaluation.\n",
    "    - k-fold CV: the training set is split into `k` smaller set.\n",
    "    - If `k=5`, the dataset will be divided into 5 equal parts and the below process will run 5 times, each time with a different holdout set.\n",
    "\n",
    "```\n",
    "                    TRAINING DATA\n",
    "iteration 1 | TEST  | train | train | train | train\n",
    "iteration 2 | train | TEST  | train | train | train\n",
    "iteration 3 | train | train | TEST  | train | train\n",
    "iteration 4 | train | train | train | TEST  | train\n",
    "iteration 5 | train | train | train | train | TEST\n",
    "                                                    TEST DATA\n",
    "```"
   ]
  },
  {
   "cell_type": "markdown",
   "metadata": {
    "slideshow": {
     "slide_type": "slide"
    },
    "tags": []
   },
   "source": [
    "# Tuning Hyperparameters\n",
    "[scikit-learn](https://scikit-learn.org/stable/modules/grid_search.html#grid-search), [Rahil Shaikh](https://towardsdatascience.com/cross-validation-explained-evaluating-estimator-performance-e51e5430ff85)\n",
    "\n",
    "* Hyperparameters are not directly learnt within estimators. \n",
    "* Typical examples include `C`, `kernel` and `gamma` , etc.\n",
    "* It is recommended to search the hyperparameter space for the best cross validation score.\n",
    "\n",
    "We deploy an exhaustive Grid Search via [GridSearchCV](https://scikit-learn.org/stable/modules/generated/sklearn.model_selection.GridSearchCV.html#sklearn.model_selection.GridSearchCV). It searches over a specified parameter grid. "
   ]
  },
  {
   "cell_type": "markdown",
   "metadata": {
    "slideshow": {
     "slide_type": "fragment"
    },
    "tags": []
   },
   "source": [
    "```python\n",
    "def run_grid_search(model, params, x_train, y_train):\n",
    "    grid = GridSearchCV(model, params, cv=5, n_jobs=-1, \n",
    "                        scoring=score, verbose=0, refit=False)\n",
    "    grid.fit(x_train, y_train)\n",
    "    return (grid.best_params_, grid.best_score_)\n",
    "```"
   ]
  },
  {
   "cell_type": "markdown",
   "metadata": {
    "slideshow": {
     "slide_type": "slide"
    },
    "tags": []
   },
   "source": [
    "# Classifier"
   ]
  },
  {
   "cell_type": "markdown",
   "metadata": {
    "pycharm": {
     "name": "#%% md\n"
    },
    "slideshow": {
     "slide_type": "subslide"
    },
    "tags": []
   },
   "source": [
    "## Logistic Regression\n",
    "[scikit-learn](https://scikit-learn.org/stable/modules/sgd.html#sgd)<br>\n",
    "\n",
    "* Stochastic Gradient Descent (SGD) is an approach to fitting linear classifiers under convex loss functions such as Logistic Regression. \n",
    "* SGD has been successfully applied to large-scale and sparse machine learning problems often encountered in text classification and natural language processing. \n",
    "* SGD is an optimization technique, in other words, it is a way to train a model. \n",
    "* `SGDClassifier(loss='log')` results in logistic regression."
   ]
  },
  {
   "cell_type": "code",
   "execution_count": 6,
   "metadata": {
    "collapsed": false,
    "jupyter": {
     "outputs_hidden": false
    },
    "pycharm": {
     "name": "#%%\n"
    },
    "slideshow": {
     "slide_type": "fragment"
    },
    "tags": []
   },
   "outputs": [
    {
     "name": "stdout",
     "output_type": "stream",
     "text": [
      "Best Parameters : {'alpha': 1e-06, 'l1_ratio': 0.75, 'penalty': 'l1'}\n",
      "Best F1 : 0.6794491036879097\n",
      "F1: 0.803 | Pr: 0.683 | Re: 0.997 | AUC: 0.525 | Accuracy: 0.677 \n",
      "\n"
     ]
    }
   ],
   "source": [
    "from sklearn.linear_model import SGDClassifier\n",
    "\n",
    "lr = SGDClassifier(loss='log')\n",
    "lr_params = {'alpha': [10 ** (-x) for x in range(7)],\n",
    "             'penalty': ['l1', 'l2', 'elasticnet'],\n",
    "             'l1_ratio': [0.15, 0.25, 0.5, 0.75]}\n",
    "best_params, best_f1 = run_grid_search(lr, lr_params, train_X, train_y)\n",
    "\n",
    "print('Best Parameters : {}'.format(best_params))\n",
    "print('Best F1 : {}'.format(best_f1))\n",
    "\n",
    "lr = SGDClassifier(loss='log',\n",
    "                   alpha=best_params['alpha'],\n",
    "                   penalty=best_params['penalty'],\n",
    "                   l1_ratio=best_params['l1_ratio'])\n",
    "metrics_lr = fit_n_times(lr, train_X, train_y, test_X, test_y)"
   ]
  },
  {
   "cell_type": "markdown",
   "metadata": {
    "pycharm": {
     "name": "#%% md\n"
    },
    "slideshow": {
     "slide_type": "subslide"
    },
    "tags": []
   },
   "source": [
    "## SVM\n",
    "[scikit-learn](https://scikit-learn.org/stable/modules/svm.html#classification)<br>\n",
    "We already know how support vector machines work :)!"
   ]
  },
  {
   "cell_type": "code",
   "execution_count": 7,
   "metadata": {
    "collapsed": false,
    "jupyter": {
     "outputs_hidden": false
    },
    "pycharm": {
     "name": "#%%\n"
    },
    "slideshow": {
     "slide_type": "fragment"
    },
    "tags": []
   },
   "outputs": [
    {
     "name": "stdout",
     "output_type": "stream",
     "text": [
      "Best Parameters : {'C': 100, 'degree': 2, 'kernel': 'linear'}\n",
      "Best F1 : 0.6767073722297603\n",
      "F1: 0.795 | Pr: 0.670 | Re: 1.000 | AUC: 0.502 | Accuracy: 0.660 \n",
      "\n"
     ]
    }
   ],
   "source": [
    "from sklearn.svm import SVC\n",
    "\n",
    "svm = SVC(probability=True)\n",
    "svm_params = {'C': [10 ** (x) for x in range(-1, 4)],\n",
    "              'kernel': ['poly', 'rbf', 'linear'],\n",
    "              'degree': [2, 3]}\n",
    "\n",
    "best_params, best_f1 = run_grid_search(svm, svm_params, train_X, train_y)\n",
    "\n",
    "print('Best Parameters : {}'.format(best_params))\n",
    "print('Best F1 : {}'.format(best_f1))\n",
    "\n",
    "svm = SVC(C=best_params['C'], kernel=best_params['kernel'], degree=best_params['degree'], probability=True)\n",
    "metrics_svm = fit_n_times(svm, train_X, train_y, test_X, test_y)"
   ]
  },
  {
   "cell_type": "markdown",
   "metadata": {
    "pycharm": {
     "name": "#%% md\n"
    },
    "slideshow": {
     "slide_type": "subslide"
    },
    "tags": []
   },
   "source": [
    " ## KNN\n",
    "[Nearest Neighbors Classification¶](https://scikit-learn.org/stable/modules/neighbors.html#classification)\n",
    "\n",
    "* Neighbors-based classification is a type of instance-based learning or non-generalizing learning: \n",
    "    * It does not construct a general internal model. \n",
    "    * Instead, it stores instances of the training data. "
   ]
  },
  {
   "cell_type": "markdown",
   "metadata": {
    "slideshow": {
     "slide_type": "fragment"
    },
    "tags": []
   },
   "source": [
    "* Classification: A point is assigned to the data class which has the most representatives within the nearest neighbors of the point."
   ]
  },
  {
   "cell_type": "markdown",
   "metadata": {
    "slideshow": {
     "slide_type": "fragment"
    },
    "tags": []
   },
   "source": [
    "* The optimal choice of the value $k$ is data-dependent: \n",
    "    * A larger $k$ suppresses the effects of noise.\n",
    "    * It makes the classification boundaries less distinct."
   ]
  },
  {
   "cell_type": "markdown",
   "metadata": {
    "slideshow": {
     "slide_type": "fragment"
    },
    "tags": []
   },
   "source": [
    "* Weights\n",
    "    * `weights = 'uniform'`: The value assigned to a query point is computed from a majority vote of the nearest neighbors. \n",
    "    * `weights = 'distance'`: Weights are assigned proportionally to the inverse of the distance from the query point; Nearer neighbors contribute more to the fit."
   ]
  },
  {
   "cell_type": "code",
   "execution_count": 8,
   "metadata": {
    "collapsed": false,
    "jupyter": {
     "outputs_hidden": false
    },
    "pycharm": {
     "name": "#%%\n"
    },
    "slideshow": {
     "slide_type": "subslide"
    },
    "tags": []
   },
   "outputs": [
    {
     "name": "stdout",
     "output_type": "stream",
     "text": [
      "Best Parameters : {'n_neighbors': 5, 'weights': 'distance'}\n",
      "F1: 0.800 | Pr: 0.670 | Re: 1.000 | AUC: 0.495 | Accuracy: 0.670 \n",
      "\n"
     ]
    }
   ],
   "source": [
    "from sklearn.neighbors import KNeighborsClassifier\n",
    "\n",
    "knn = KNeighborsClassifier(n_jobs=-1)\n",
    "knn_params = {'n_neighbors': [3, 5, 7, 9, 15, 31],\n",
    "              'weights': ['uniform', 'distance']\n",
    "              }\n",
    "\n",
    "best_params, best_f1 = run_grid_search(knn, knn_params, train_X, train_y)\n",
    "print('Best Parameters : {}'.format(best_params))\n",
    "\n",
    "knn = KNeighborsClassifier(n_neighbors=best_params['n_neighbors'], weights=best_params['weights'], n_jobs=-1)\n",
    "\n",
    "metrics_knn = fit_n_times(knn, train_X, train_y, test_X, test_y)"
   ]
  },
  {
   "cell_type": "markdown",
   "metadata": {
    "slideshow": {
     "slide_type": "slide"
    },
    "tags": []
   },
   "source": [
    "## Multi-Layer Perceptron\n",
    "- A multi-layer perceptron (MLP) is a simple feedforward neural network. \n",
    "- It consists of an \n",
    "    - input layer that represents an encoding of our text input; \n",
    "    - an arbitrary number (in our case one) of hidden layers; \n",
    "    - and an output layer that represents the predicted class.\n",
    "\n",
    "<img src=\"figures/mlp.png\" alt=\"mlp\" width=\"400\"/>"
   ]
  },
  {
   "cell_type": "markdown",
   "metadata": {
    "slideshow": {
     "slide_type": "subslide"
    },
    "tags": []
   },
   "source": [
    "### How does a neuron work?\n",
    "\n",
    "- The terms \"dense\" and \"feedforward\" mean that all outputs of a layer are inputs for each neuron in the susequent layer. \n",
    "- The output of a single neuron can be formulated as follows:\n",
    "    - **x** are the inputs \n",
    "    - **w** are trainable weights\n",
    "    - **y** is the output\n",
    "    - **b** is a constant bias\n",
    "    - **f<sub>A</sub>** is a non-linear activation function\n",
    "\n",
    "<img src=\"figures/neuron_formula.png\" alt=\"neuron formula\" width=\"200\"/>\n",
    "<img src=\"figures/neuron.png\" alt=\"neuron\" width=\"400\"/>"
   ]
  },
  {
   "cell_type": "markdown",
   "metadata": {
    "slideshow": {
     "slide_type": "subslide"
    },
    "tags": []
   },
   "source": [
    "### Activation functions\n",
    "\n",
    "- In order to create a non-linear model, a MLP must not consist of linear activation functions only. \n",
    "- The choice of the right activation function is a much discussed topic in machine learning research and depends on the task to solve (regression or classification) and on whether it is applied to a hidden or the output layer. \n",
    "- These are some of the most common activation functions\n",
    "\n",
    "<img src=\"figures/activation_functions.png\" alt=\"activation functions\" width=\"500\"/>"
   ]
  },
  {
   "cell_type": "markdown",
   "metadata": {
    "slideshow": {
     "slide_type": "subslide"
    },
    "tags": []
   },
   "source": [
    "### Learning through back-propagation\n",
    "\n",
    "- \"Back-propagation\" is an algorithm to calculate the gradient for each weight in the neural network.\n",
    "- It estimates the contribution to the error (loss) of each weight starting from the output layer.\n",
    "- The gradient is then used by an optimization algorithm (usually stochastic gradient descent based methods) to update the model weights."
   ]
  },
  {
   "cell_type": "code",
   "execution_count": 9,
   "metadata": {
    "collapsed": false,
    "jupyter": {
     "outputs_hidden": false
    },
    "pycharm": {
     "name": "#%%\n"
    },
    "slideshow": {
     "slide_type": "subslide"
    },
    "tags": []
   },
   "outputs": [
    {
     "name": "stderr",
     "output_type": "stream",
     "text": [
      "2021-09-25 14:33:18.006139: I tensorflow/core/platform/cpu_feature_guard.cc:142] This TensorFlow binary is optimized with oneAPI Deep Neural Network Library (oneDNN) to use the following CPU instructions in performance-critical operations:  AVX2 FMA\n",
      "To enable them in other operations, rebuild TensorFlow with the appropriate compiler flags.\n",
      "2021-09-25 14:33:18.072802: I tensorflow/compiler/mlir/mlir_graph_optimization_pass.cc:185] None of the MLIR Optimization Passes are enabled (registered 2)\n"
     ]
    },
    {
     "name": "stdout",
     "output_type": "stream",
     "text": [
      "Model: \"sequential\"\n",
      "_________________________________________________________________\n",
      "Layer (type)                 Output Shape              Param #   \n",
      "=================================================================\n",
      "dense (Dense)                (None, 300)               90300     \n",
      "_________________________________________________________________\n",
      "dropout (Dropout)            (None, 300)               0         \n",
      "_________________________________________________________________\n",
      "dense_1 (Dense)              (None, 200)               60200     \n",
      "_________________________________________________________________\n",
      "dropout_1 (Dropout)          (None, 200)               0         \n",
      "_________________________________________________________________\n",
      "dense_2 (Dense)              (None, 1)                 201       \n",
      "=================================================================\n",
      "Total params: 150,701\n",
      "Trainable params: 150,701\n",
      "Non-trainable params: 0\n",
      "_________________________________________________________________\n",
      "Epoch 1/10\n",
      "3/3 [==============================] - 1s 67ms/step - loss: 0.6934 - accuracy: 0.5115 - val_loss: 0.6800 - val_accuracy: 0.6915\n",
      "\n",
      "Epoch 00001: val_accuracy improved from -inf to 0.69149, saving model to data/interim/saved_models\n"
     ]
    },
    {
     "name": "stderr",
     "output_type": "stream",
     "text": [
      "2021-09-25 14:33:18.860012: W tensorflow/python/util/util.cc:348] Sets are not currently considered sequences, but this may change in the future, so consider avoiding using them.\n"
     ]
    },
    {
     "name": "stdout",
     "output_type": "stream",
     "text": [
      "INFO:tensorflow:Assets written to: data/interim/saved_models/assets\n",
      "Epoch 2/10\n",
      "3/3 [==============================] - 0s 11ms/step - loss: 0.6949 - accuracy: 0.5000 - val_loss: 0.6726 - val_accuracy: 0.6702\n",
      "\n",
      "Epoch 00002: val_accuracy did not improve from 0.69149\n",
      "Epoch 3/10\n",
      "3/3 [==============================] - 0s 12ms/step - loss: 0.6914 - accuracy: 0.5115 - val_loss: 0.6839 - val_accuracy: 0.6809\n",
      "\n",
      "Epoch 00003: val_accuracy did not improve from 0.69149\n",
      "Epoch 4/10\n",
      "3/3 [==============================] - 0s 11ms/step - loss: 0.6899 - accuracy: 0.5458 - val_loss: 0.6983 - val_accuracy: 0.3191\n",
      "\n",
      "Epoch 00004: val_accuracy did not improve from 0.69149\n",
      "Epoch 5/10\n",
      "3/3 [==============================] - 0s 11ms/step - loss: 0.6893 - accuracy: 0.5305 - val_loss: 0.7094 - val_accuracy: 0.3298\n",
      "\n",
      "Epoch 00005: val_accuracy did not improve from 0.69149\n",
      "Epoch 6/10\n",
      "3/3 [==============================] - 0s 11ms/step - loss: 0.6904 - accuracy: 0.5076 - val_loss: 0.7221 - val_accuracy: 0.3298\n",
      "\n",
      "Epoch 00006: val_accuracy did not improve from 0.69149\n",
      "Epoch 7/10\n",
      "3/3 [==============================] - 0s 11ms/step - loss: 0.6940 - accuracy: 0.5000 - val_loss: 0.7392 - val_accuracy: 0.3298\n",
      "\n",
      "Epoch 00007: val_accuracy did not improve from 0.69149\n",
      "Epoch 8/10\n",
      "3/3 [==============================] - 0s 11ms/step - loss: 0.6971 - accuracy: 0.5000 - val_loss: 0.7419 - val_accuracy: 0.3298\n",
      "\n",
      "Epoch 00008: val_accuracy did not improve from 0.69149\n",
      "Epoch 9/10\n",
      "3/3 [==============================] - 0s 11ms/step - loss: 0.6960 - accuracy: 0.5038 - val_loss: 0.7248 - val_accuracy: 0.3298\n",
      "\n",
      "Epoch 00009: val_accuracy did not improve from 0.69149\n",
      "Epoch 10/10\n",
      "3/3 [==============================] - 0s 11ms/step - loss: 0.6899 - accuracy: 0.5038 - val_loss: 0.7185 - val_accuracy: 0.3191\n",
      "\n",
      "Epoch 00010: val_accuracy did not improve from 0.69149\n",
      "F1: 0.813 | Pr: 0.705 | Re: 0.984 | AUC: 0.537 | Accuracy: 0.702 \n",
      "\n"
     ]
    }
   ],
   "source": [
    "from tensorflow.keras.models import Sequential\n",
    "from tensorflow.keras.layers import Dense, Dropout\n",
    "from tensorflow.keras.optimizers import Adam\n",
    "from tensorflow.keras.callbacks import ModelCheckpoint\n",
    "\n",
    "batch_size = 128\n",
    "epochs = 10\n",
    "\n",
    "simple_nn = Sequential()\n",
    "simple_nn.add(Dense(300, activation='relu', input_shape=(300,)))  # input layer\n",
    "simple_nn.add(Dropout(0.2))\n",
    "simple_nn.add(Dense(200, activation='relu')) # hidden layer\n",
    "simple_nn.add(Dropout(0.2))\n",
    "simple_nn.add(Dense(1, activation='sigmoid')) # output layer\n",
    "simple_nn.summary()\n",
    "\n",
    "simple_nn.compile(loss='binary_crossentropy',\n",
    "                  optimizer=Adam(),\n",
    "                  metrics=['accuracy'])\n",
    "\n",
    "checkpoint = ModelCheckpoint('data/interim/saved_models', monitor='val_accuracy', verbose=1, save_best_only=True)\n",
    "history = simple_nn.fit(train_X, train_y.values,\n",
    "                        batch_size=batch_size,\n",
    "                        epochs=epochs,\n",
    "                        verbose=1,\n",
    "                        callbacks=[checkpoint],\n",
    "                        validation_data=(test_X, test_y.values))\n",
    "y_pred_prob = simple_nn.predict(test_X)  # eliminated all .todense() --> no longer necessary when w2v instead of tfidf\n",
    "metrics_nn = print_model_metrics(test_y, y_pred_prob, return_metrics=True)"
   ]
  },
  {
   "cell_type": "markdown",
   "metadata": {
    "pycharm": {
     "name": "#%% md\n"
    },
    "slideshow": {
     "slide_type": "slide"
    },
    "tags": []
   },
   "source": [
    "## Ensemble Methods\n",
    "Ensemble methods are machine learning techniques that combine several base models in order to produce one optimal predictive model."
   ]
  },
  {
   "cell_type": "markdown",
   "metadata": {
    "pycharm": {
     "name": "#%% md\n"
    },
    "slideshow": {
     "slide_type": "subslide"
    },
    "tags": []
   },
   "source": [
    "### Random Forest\n",
    "[scikit-learn](https://scikit-learn.org/stable/modules/generated/sklearn.ensemble.RandomForestClassifier.html), [Skyler Dale](https://towardsdatascience.com/an-intuitive-explanation-of-random-forests-109b04bca343) <br>\n",
    "\n",
    "* A random forest is a meta estimator that fits a number of decision tree classifiers.\n",
    "* Each decision tree is trained on a different subset of the data.\n",
    "* A random subset of the full list of features is selected at every split in each decision tree. \n",
    "* The resulting trees have been exposed to different information.\n",
    "* For a regression problem, the random forest takes the average of each tree's prediction. \n",
    "* For classification, it takes the mode or majority.\n",
    "* The goal is to improve the predictive accuracy and control over-fitting. "
   ]
  },
  {
   "cell_type": "code",
   "execution_count": 10,
   "metadata": {
    "collapsed": false,
    "jupyter": {
     "outputs_hidden": false
    },
    "pycharm": {
     "name": "#%%\n"
    },
    "slideshow": {
     "slide_type": "fragment"
    },
    "tags": []
   },
   "outputs": [
    {
     "name": "stdout",
     "output_type": "stream",
     "text": [
      "Best Parameters : {'max_depth': 15, 'min_samples_split': 5, 'n_estimators': 250}\n",
      "F1: 0.806 | Pr: 0.686 | Re: 1.000 | AUC: 0.534 | Accuracy: 0.682 \n",
      "\n"
     ]
    }
   ],
   "source": [
    "from sklearn.ensemble import RandomForestClassifier\n",
    "\n",
    "rf = RandomForestClassifier(n_jobs=-1)\n",
    "\n",
    "rf_params = {'n_estimators': [10, 100, 250, 500, 1000],\n",
    "             'max_depth': [None, 3, 7, 15],\n",
    "             'min_samples_split': [2, 5, 15]\n",
    "             }\n",
    "\n",
    "best_params, best_f1 = run_grid_search(rf, rf_params, train_X, train_y)\n",
    "\n",
    "print('Best Parameters : {}'.format(best_params))\n",
    "rf = RandomForestClassifier(n_estimators=best_params['n_estimators'],\n",
    "                            min_samples_split=best_params['min_samples_split'],\n",
    "                            max_depth=best_params['max_depth'],\n",
    "                            n_jobs=-1)\n",
    "metrics_rf = fit_n_times(rf, train_X, train_y, test_X, test_y)"
   ]
  },
  {
   "cell_type": "markdown",
   "metadata": {
    "pycharm": {
     "name": "#%% md\n"
    },
    "slideshow": {
     "slide_type": "subslide"
    },
    "tags": []
   },
   "source": [
    "### Bagging\n",
    "[scikit-learn](https://scikit-learn.org/stable/modules/generated/sklearn.ensemble.BaggingClassifier.html), [Breimann (1996)](https://link.springer.com/article/10.1007/BF00058655) <br>\n",
    "\n",
    "* Bagging stands for bootstrap and aggregation.\n",
    "* A bagging classifier fits base classifiers each on random subsets of the original dataset.\n",
    "* To form a final prediction, it aggregates their individual predictions (either by voting or by averaging). \n",
    "* The goal is to reduce the variance of a black-box estimator.\n",
    "* Difference to random forests:\n",
    "    * Random forests only select a subset of features at random out of the total and the best split feature from the subset is used to split each node in a tree.\n",
    "    * Bagging considers all features for splitting a node.\n",
    "\n",
    "In the following, we use svm as base estimator."
   ]
  },
  {
   "cell_type": "code",
   "execution_count": 11,
   "metadata": {
    "collapsed": false,
    "jupyter": {
     "outputs_hidden": false
    },
    "pycharm": {
     "name": "#%%\n"
    },
    "slideshow": {
     "slide_type": "fragment"
    },
    "tags": []
   },
   "outputs": [
    {
     "name": "stdout",
     "output_type": "stream",
     "text": [
      "F1: 0.795 | Pr: 0.670 | Re: 1.000 | AUC: 0.520 | Accuracy: 0.660 \n",
      "\n"
     ]
    }
   ],
   "source": [
    "from sklearn.ensemble import BaggingClassifier\n",
    "from sklearn.svm import SVC\n",
    "\n",
    "svm = SVC(C=10, kernel='poly', degree=2, probability=True, verbose=0)\n",
    "\n",
    "svm_bag = BaggingClassifier(svm, n_estimators=200, max_features=0.9, max_samples=1.0, bootstrap_features=False,\n",
    "                            bootstrap=True, n_jobs=1, verbose=0)\n",
    "\n",
    "svm_bag.fit(train_X, train_y)\n",
    "y_test_prob = svm_bag.predict_proba(test_X)[:, 1]\n",
    "metrics_bag_svm = print_model_metrics(test_y, y_test_prob, return_metrics=True)"
   ]
  },
  {
   "cell_type": "markdown",
   "metadata": {
    "slideshow": {
     "slide_type": "subslide"
    },
    "tags": []
   },
   "source": [
    "### Stacked Generalization\n",
    "[scikit-learn](https://scikit-learn.org/stable/modules/ensemble.html#stacked-generalization), [Wolpert (1992)](https://www.sciencedirect.com/science/article/pii/S0893608005800231)\n",
    "\n",
    "* Model stacking is a method for combining estimators to reduce their biases.\n",
    "* The predictions of each individual estimator are stacked together and used as input to a final estimator to compute the prediction. \n",
    "* This final estimator is trained through cross-validation."
   ]
  },
  {
   "cell_type": "code",
   "execution_count": 12,
   "metadata": {
    "slideshow": {
     "slide_type": "skip"
    },
    "tags": []
   },
   "outputs": [],
   "source": [
    "from sklearn.neighbors import KNeighborsClassifier\n",
    "from sklearn.naive_bayes import MultinomialNB\n",
    "from sklearn.svm import SVC\n",
    "from sklearn.linear_model import SGDClassifier\n",
    "\n",
    "from hyperopt import fmin, tpe, hp, STATUS_OK, Trials\n",
    "\n",
    "\n",
    "class StackingClassifier:\n",
    "\n",
    "    def __init__(self):\n",
    "        lr = SGDClassifier(loss='log', alpha=0.1, penalty='elasticnet')\n",
    "        svm = SVC(C=10, kernel='poly', degree=2, probability=True)\n",
    "        nb = MultinomialNB(alpha=10000, class_prior=[0.5, 0.5])\n",
    "        knn = KNeighborsClassifier(n_neighbors=7, weights='distance', n_jobs=-1)\n",
    "        rf = RandomForestClassifier(n_estimators=50, min_samples_split=5, max_depth=15,\n",
    "                                    n_jobs=-1)  # n_estimators=250 runs for a long time\n",
    "\n",
    "        self.model_dict = dict(zip(['LR', 'SVM', 'KNN', 'RF'], [lr, svm, knn, rf]))\n",
    "        self.model_weights = {'LR': 0.9,\n",
    "                              'SVM': 0.9,\n",
    "                              #  'NB': 0.8,\n",
    "                              'KNN': 0.75,\n",
    "                              'RF': 0.75,\n",
    "                              #'XGB': 0.6,\n",
    "                              'simple_nn': 0.7\n",
    "                              }\n",
    "\n",
    "    def fit(self, X, y):\n",
    "        for model_name, model in self.model_dict.items():\n",
    "            print('Training {}'.format(model_name))\n",
    "            model.fit(X, y)\n",
    "\n",
    "    def predict_proba(self, X):\n",
    "        global simple_nn\n",
    "        y_pred_prob = 0\n",
    "\n",
    "        for model_name, model in self.model_dict.items():\n",
    "            y_pred_prob += (model.predict_proba(X)[:, 1] * self.model_weights[model_name])\n",
    "\n",
    "        y_pred_prob += (simple_nn.predict(X).ravel() * self.model_weights['simple_nn'])\n",
    "        y_pred_prob /= sum(self.model_weights.values())\n",
    "        return y_pred_prob\n",
    "\n",
    "    def optimize_weights(self, X, y):\n",
    "\n",
    "        def _run_voting_clf(model_weights):\n",
    "            global simple_nn\n",
    "            y_pred_prob = 0\n",
    "            for model_name, model in self.model_dict.items():\n",
    "                y_pred_prob += (model.predict_proba(X)[:, 1] * model_weights[model_name])\n",
    "            y_pred_prob += (simple_nn.predict(X).ravel() * model_weights['simple_nn'])\n",
    "            y_pred_prob /= sum(model_weights.values())\n",
    "            f1 = print_model_metrics(y, y_pred_prob, return_metrics=True, verbose=0)[0]\n",
    "            return {'loss': -f1, 'status': STATUS_OK}\n",
    "\n",
    "        trials = Trials()\n",
    "        self.model_weights = fmin(_run_voting_clf,\n",
    "                                  space={\n",
    "                                      'LR': hp.uniform('LR', 0, 1),\n",
    "                                      'SVM': hp.uniform('SVM', 0, 1),\n",
    "                                      #    'NB': hp.uniform('NB', 0, 1),\n",
    "                                      'KNN': hp.uniform('KNN', 0, 1),\n",
    "                                      'RF': hp.uniform('RF', 0, 1),\n",
    "                                      # 'XGB': hp.uniform('XGB', 0, 1),\n",
    "                                      'simple_nn': hp.uniform('simple_nn', 0, 1),\n",
    "                                  },\n",
    "                                  algo=tpe.suggest,\n",
    "                                  max_evals=500,\n",
    "                                  trials=trials)"
   ]
  },
  {
   "cell_type": "code",
   "execution_count": 13,
   "metadata": {
    "collapsed": false,
    "jupyter": {
     "outputs_hidden": false
    },
    "pycharm": {
     "name": "#%%\n"
    },
    "slideshow": {
     "slide_type": "subslide"
    },
    "tags": []
   },
   "outputs": [
    {
     "name": "stdout",
     "output_type": "stream",
     "text": [
      "Training LR\n",
      "Training SVM\n",
      "Training KNN\n",
      "Training RF\n",
      "100%|█████████████████████████████████████████████████████████████| 500/500 [00:36<00:00, 13.86trial/s, best loss: -0.8104575163398694]\n",
      "F1: 0.810 | Pr: 0.692 | Re: 1.000 | AUC: 0.508 | Accuracy: 0.691 \n",
      "\n"
     ]
    },
    {
     "data": {
      "image/png": "[encoded data removed]",
      "text/plain": [
       "<Figure size 432x288 with 2 Axes>"
      ]
     },
     "metadata": {
      "needs_background": "light"
     },
     "output_type": "display_data"
    }
   ],
   "source": [
    "stacking_clf = StackingClassifier()\n",
    "stacking_clf.fit(train_X, train_y)\n",
    "stacking_clf.optimize_weights(test_X, test_y)\n",
    "y_pred_prob = stacking_clf.predict_proba(test_X)\n",
    "np.save('data/interim/stacked_prediction.npy', y_pred_prob)  # save predictions\n",
    "metrics_stack = print_model_metrics(test_y, y_pred_prob, confusion=True, return_metrics=True)\n",
    "\n",
    "filename = 'data/interim/best_model.sav'\n",
    "pickle.dump(stacking_clf, open(filename, 'wb'))"
   ]
  },
  {
   "cell_type": "code",
   "execution_count": 14,
   "metadata": {
    "collapsed": false,
    "jupyter": {
     "outputs_hidden": false
    },
    "pycharm": {
     "name": "#%%\n"
    },
    "slideshow": {
     "slide_type": "subslide"
    },
    "tags": []
   },
   "outputs": [
    {
     "data": {
      "text/html": [
       "<div>\n",
       "<style scoped>\n",
       "    .dataframe tbody tr th:only-of-type {\n",
       "        vertical-align: middle;\n",
       "    }\n",
       "\n",
       "    .dataframe tbody tr th {\n",
       "        vertical-align: top;\n",
       "    }\n",
       "\n",
       "    .dataframe thead th {\n",
       "        text-align: right;\n",
       "    }\n",
       "</style>\n",
       "<table border=\"1\" class=\"dataframe\">\n",
       "  <thead>\n",
       "    <tr style=\"text-align: right;\">\n",
       "      <th></th>\n",
       "      <th>f1</th>\n",
       "      <th>prec</th>\n",
       "      <th>rec</th>\n",
       "      <th>AUC</th>\n",
       "      <th>acc</th>\n",
       "    </tr>\n",
       "  </thead>\n",
       "  <tbody>\n",
       "    <tr>\n",
       "      <th>NN</th>\n",
       "      <td>0.813</td>\n",
       "      <td>0.705</td>\n",
       "      <td>0.984</td>\n",
       "      <td>0.537</td>\n",
       "      <td>0.702</td>\n",
       "    </tr>\n",
       "    <tr>\n",
       "      <th>Stacking</th>\n",
       "      <td>0.810</td>\n",
       "      <td>0.692</td>\n",
       "      <td>1.000</td>\n",
       "      <td>0.508</td>\n",
       "      <td>0.691</td>\n",
       "    </tr>\n",
       "    <tr>\n",
       "      <th>RF</th>\n",
       "      <td>0.806</td>\n",
       "      <td>0.686</td>\n",
       "      <td>1.000</td>\n",
       "      <td>0.534</td>\n",
       "      <td>0.682</td>\n",
       "    </tr>\n",
       "    <tr>\n",
       "      <th>LLR</th>\n",
       "      <td>0.803</td>\n",
       "      <td>0.683</td>\n",
       "      <td>0.997</td>\n",
       "      <td>0.525</td>\n",
       "      <td>0.677</td>\n",
       "    </tr>\n",
       "    <tr>\n",
       "      <th>KNN</th>\n",
       "      <td>0.800</td>\n",
       "      <td>0.670</td>\n",
       "      <td>1.000</td>\n",
       "      <td>0.495</td>\n",
       "      <td>0.670</td>\n",
       "    </tr>\n",
       "    <tr>\n",
       "      <th>SVM</th>\n",
       "      <td>0.795</td>\n",
       "      <td>0.670</td>\n",
       "      <td>1.000</td>\n",
       "      <td>0.502</td>\n",
       "      <td>0.660</td>\n",
       "    </tr>\n",
       "    <tr>\n",
       "      <th>Bagging</th>\n",
       "      <td>0.795</td>\n",
       "      <td>0.670</td>\n",
       "      <td>1.000</td>\n",
       "      <td>0.520</td>\n",
       "      <td>0.660</td>\n",
       "    </tr>\n",
       "  </tbody>\n",
       "</table>\n",
       "</div>"
      ],
      "text/plain": [
       "             f1   prec    rec    AUC    acc\n",
       "NN        0.813  0.705  0.984  0.537  0.702\n",
       "Stacking  0.810  0.692  1.000  0.508  0.691\n",
       "RF        0.806  0.686  1.000  0.534  0.682\n",
       "LLR       0.803  0.683  0.997  0.525  0.677\n",
       "KNN       0.800  0.670  1.000  0.495  0.670\n",
       "SVM       0.795  0.670  1.000  0.502  0.660\n",
       "Bagging   0.795  0.670  1.000  0.520  0.660"
      ]
     },
     "execution_count": 14,
     "metadata": {},
     "output_type": "execute_result"
    }
   ],
   "source": [
    "metrics_all = pd.DataFrame(np.stack([metrics_lr,\n",
    "                                     metrics_svm,\n",
    "                                     metrics_knn,\n",
    "                                     metrics_rf,\n",
    "                                     metrics_nn,\n",
    "                                     metrics_bag_svm,\n",
    "                                     metrics_stack\n",
    "                                     ]),\n",
    "                           columns=[\"f1\", \"prec\", \"rec\", \"AUC\", \"acc\"],\n",
    "                           index=[\"LLR\", \"SVM\", \"KNN\", \"RF\", \n",
    "                                  \"NN\", \"Bagging\", \"Stacking\"])\n",
    "metrics_all.round(decimals=3).sort_values(by=\"f1\", ascending=False)"
   ]
  }
 ],
 "metadata": {
  "kernelspec": {
   "display_name": "Python 3 (ipykernel)",
   "language": "python",
   "name": "python3"
  },
  "language_info": {
   "codemirror_mode": {
    "name": "ipython",
    "version": 3
   },
   "file_extension": ".py",
   "mimetype": "text/x-python",
   "name": "python",
   "nbconvert_exporter": "python",
   "pygments_lexer": "ipython3",
   "version": "3.9.6"
  }
 },
 "nbformat": 4,
 "nbformat_minor": 4
}