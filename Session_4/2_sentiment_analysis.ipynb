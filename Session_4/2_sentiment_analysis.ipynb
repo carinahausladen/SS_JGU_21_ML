{
 "cells": [
  {
   "cell_type": "code",
   "execution_count": 1,
   "metadata": {
    "slideshow": {
     "slide_type": "skip"
    },
    "tags": []
   },
   "outputs": [],
   "source": [
    "import datetime\n",
    "now = datetime.datetime.now()"
   ]
  },
  {
   "cell_type": "markdown",
   "metadata": {
    "slideshow": {
     "slide_type": "slide"
    },
    "tags": []
   },
   "source": [
    "# Sentiment Analysis\n",
    "\n",
    "## Summer School JGU Mainz — Advanced Methods in Behavioral Economics, 2021\n",
    "\n",
    "### Carina I. Hausladen"
   ]
  },
  {
   "cell_type": "code",
   "execution_count": 2,
   "metadata": {
    "slideshow": {
     "slide_type": "fragment"
    },
    "tags": []
   },
   "outputs": [
    {
     "name": "stdout",
     "output_type": "stream",
     "text": [
      "2021-10-01\n"
     ]
    }
   ],
   "source": [
    "print(now.strftime(\"%Y-%m-%d\"))"
   ]
  },
  {
   "cell_type": "code",
   "execution_count": 3,
   "metadata": {
    "slideshow": {
     "slide_type": "skip"
    },
    "tags": []
   },
   "outputs": [],
   "source": [
    "import re\n",
    " \n",
    "import pandas as pd \n",
    "import matplotlib.pyplot as plt\n",
    "from sklearn.model_selection import train_test_split\n",
    "\n",
    "from keras.preprocessing.text import Tokenizer\n",
    "from keras.preprocessing.sequence import pad_sequences\n",
    "from keras.models import Sequential\n",
    "from keras.layers import Dense, Embedding, LSTM, SpatialDropout1D\n",
    "from keras.callbacks import EarlyStopping\n",
    "\n",
    "RANDOM_STATE = 42"
   ]
  },
  {
   "cell_type": "markdown",
   "metadata": {
    "slideshow": {
     "slide_type": "slide"
    },
    "tags": []
   },
   "source": [
    "# Sentiment Analysis\n",
    "* Sentiment Analysis, or opinion mining, is a sub-field of NLP.\n",
    "* It tries to identify and extract opinions within a given text.\n",
    "* Sentiment Analysis can help to craft unstructured text into structured data using NLP and open source tools. \n",
    "* Approaches\n",
    "    * Dictionary-based: \n",
    "        * Count the number of positive and negative words in the text; \n",
    "        * Define the difference between the number of positive and negative words as the sentiment of the text;\n",
    "    * Deep learning, LSTM"
   ]
  },
  {
   "cell_type": "markdown",
   "metadata": {
    "slideshow": {
     "slide_type": "slide"
    },
    "tags": []
   },
   "source": [
    "## Data\n",
    "\n",
    "* We use a Kaggle data set that contains annotated tweets from the first [US GOP Presidential Debate in 2016](https://www.kaggle.com/crowdflower/first-gop-debate-twitter-sentiment). \n",
    "* You can find it in the data folder named `dataset_sentiment.csv`. \n",
    "* We only use the tweet and the human-labelled sentiment for this exercise."
   ]
  },
  {
   "cell_type": "code",
   "execution_count": 4,
   "metadata": {
    "slideshow": {
     "slide_type": "subslide"
    },
    "tags": []
   },
   "outputs": [
    {
     "data": {
      "text/html": [
       "<div>\n",
       "<style scoped>\n",
       "    .dataframe tbody tr th:only-of-type {\n",
       "        vertical-align: middle;\n",
       "    }\n",
       "\n",
       "    .dataframe tbody tr th {\n",
       "        vertical-align: top;\n",
       "    }\n",
       "\n",
       "    .dataframe thead th {\n",
       "        text-align: right;\n",
       "    }\n",
       "</style>\n",
       "<table border=\"1\" class=\"dataframe\">\n",
       "  <thead>\n",
       "    <tr style=\"text-align: right;\">\n",
       "      <th></th>\n",
       "      <th>sentiment</th>\n",
       "      <th>text</th>\n",
       "    </tr>\n",
       "  </thead>\n",
       "  <tbody>\n",
       "    <tr>\n",
       "      <th>0</th>\n",
       "      <td>Neutral</td>\n",
       "      <td>RT @NancyLeeGrahn: How did everyone feel about...</td>\n",
       "    </tr>\n",
       "    <tr>\n",
       "      <th>1</th>\n",
       "      <td>Positive</td>\n",
       "      <td>RT @ScottWalker: Didn't catch the full #GOPdeb...</td>\n",
       "    </tr>\n",
       "    <tr>\n",
       "      <th>2</th>\n",
       "      <td>Neutral</td>\n",
       "      <td>RT @TJMShow: No mention of Tamir Rice and the ...</td>\n",
       "    </tr>\n",
       "    <tr>\n",
       "      <th>3</th>\n",
       "      <td>Positive</td>\n",
       "      <td>RT @RobGeorge: That Carly Fiorina is trending ...</td>\n",
       "    </tr>\n",
       "    <tr>\n",
       "      <th>4</th>\n",
       "      <td>Positive</td>\n",
       "      <td>RT @DanScavino: #GOPDebate w/ @realDonaldTrump...</td>\n",
       "    </tr>\n",
       "  </tbody>\n",
       "</table>\n",
       "</div>"
      ],
      "text/plain": [
       "  sentiment                                               text\n",
       "0   Neutral  RT @NancyLeeGrahn: How did everyone feel about...\n",
       "1  Positive  RT @ScottWalker: Didn't catch the full #GOPdeb...\n",
       "2   Neutral  RT @TJMShow: No mention of Tamir Rice and the ...\n",
       "3  Positive  RT @RobGeorge: That Carly Fiorina is trending ...\n",
       "4  Positive  RT @DanScavino: #GOPDebate w/ @realDonaldTrump..."
      ]
     },
     "execution_count": 4,
     "metadata": {},
     "output_type": "execute_result"
    }
   ],
   "source": [
    "df = pd.read_csv('data/dataset_sentiment.csv', usecols=['text','sentiment'])\n",
    "df.head()"
   ]
  },
  {
   "cell_type": "code",
   "execution_count": 5,
   "metadata": {
    "slideshow": {
     "slide_type": "fragment"
    },
    "tags": []
   },
   "outputs": [
    {
     "data": {
      "text/plain": [
       "Negative    8493\n",
       "Neutral     3142\n",
       "Positive    2236\n",
       "Name: sentiment, dtype: int64"
      ]
     },
     "execution_count": 5,
     "metadata": {},
     "output_type": "execute_result"
    }
   ],
   "source": [
    "df[\"sentiment\"].value_counts()"
   ]
  },
  {
   "cell_type": "markdown",
   "metadata": {
    "slideshow": {
     "slide_type": "slide"
    },
    "tags": []
   },
   "source": [
    "## Data preparation"
   ]
  },
  {
   "cell_type": "markdown",
   "metadata": {
    "slideshow": {
     "slide_type": "subslide"
    },
    "tags": []
   },
   "source": [
    "### Basic preprocessing"
   ]
  },
  {
   "cell_type": "code",
   "execution_count": 6,
   "metadata": {
    "slideshow": {
     "slide_type": "fragment"
    },
    "tags": []
   },
   "outputs": [],
   "source": [
    "max_features = 500\n",
    "\n",
    "#df = df[df['sentiment'] != \"Neutral\"]  # drop rows with neutral sentiment\n",
    "df['text'] = df['text'].apply(lambda x: x.lower()) # make everything lowervase\n",
    "df['text'] = df['text'].apply(lambda x: x.replace('rt',' ')) # remove \"RT\" for \"retweet\"\n",
    "df['text'] = df['text'].apply(lambda x: re.sub('[^a-zA-z0-9\\s]','',x))  # remove special characters"
   ]
  },
  {
   "cell_type": "markdown",
   "metadata": {
    "slideshow": {
     "slide_type": "subslide"
    },
    "tags": []
   },
   "source": [
    "### Tokenization"
   ]
  },
  {
   "cell_type": "code",
   "execution_count": 7,
   "metadata": {
    "slideshow": {
     "slide_type": "fragment"
    },
    "tags": []
   },
   "outputs": [],
   "source": [
    "tok = Tokenizer(num_words=max_features, split=' ')\n",
    "tok.fit_on_texts(df['text'].values)\n",
    "X = tok.texts_to_sequences(df['text'].values)\n",
    "X = pad_sequences(X)"
   ]
  },
  {
   "cell_type": "markdown",
   "metadata": {
    "slideshow": {
     "slide_type": "subslide"
    },
    "tags": []
   },
   "source": [
    "### Create binary labels"
   ]
  },
  {
   "cell_type": "code",
   "execution_count": 8,
   "metadata": {
    "slideshow": {
     "slide_type": "fragment"
    },
    "tags": []
   },
   "outputs": [],
   "source": [
    "y = pd.get_dummies(df['sentiment']).values"
   ]
  },
  {
   "cell_type": "markdown",
   "metadata": {
    "slideshow": {
     "slide_type": "subslide"
    },
    "tags": []
   },
   "source": [
    "### Split data into train, validation, and test set"
   ]
  },
  {
   "cell_type": "code",
   "execution_count": 9,
   "metadata": {
    "slideshow": {
     "slide_type": "fragment"
    },
    "tags": []
   },
   "outputs": [],
   "source": [
    "X_train, X_test, y_train, y_test = train_test_split(X, y, test_size = 0.20, random_state=RANDOM_STATE)\n",
    "X_train, X_validate, y_train, y_validate = train_test_split(X_train, y_train, test_size = 0.25, random_state=RANDOM_STATE)"
   ]
  },
  {
   "cell_type": "markdown",
   "metadata": {
    "slideshow": {
     "slide_type": "slide"
    },
    "tags": []
   },
   "source": [
    "## LSTM\n",
    "### Theory\n",
    "[Santhosh Kumar](https://www.analyticsvidhya.com/blog/2021/06/natural-language-processing-sentiment-analysis-using-lstm/)\n",
    "\n",
    "**RNN**\n",
    "* An RNN (recurrent neural net) is a type of supervised deep learning algorithm.\n",
    "* The idea behind RNN is to remember what information was there in the previous neurons.\n",
    "* The information from a specific time instance ($t_1$) is used as an input for the next time instance ($t_2$).\n",
    "\n",
    "<img src=\"figures/recurrent_cell.png\" alt=\"mlp\" width=\"500\"/>"
   ]
  },
  {
   "cell_type": "markdown",
   "metadata": {
    "slideshow": {
     "slide_type": "subslide"
    },
    "tags": []
   },
   "source": [
    "**Vanishing gradient** \n",
    "* In any neural network, the weights are updated in the training phase by calculating the error and back-propagation through the network. \n",
    "* In the case of an RNN, the gradient calculated at each time instance has to be multiplied back through the weights earlier in the network. \n",
    "* Therefore, for every time step we go back, for calculating the weights, the gradient becomes weaker.\n",
    "* If the gradient value is very small, it won’t contribute much to the learning process."
   ]
  },
  {
   "cell_type": "markdown",
   "metadata": {
    "slideshow": {
     "slide_type": "subslide"
    },
    "tags": []
   },
   "source": [
    "**LSTM**\n",
    "* LSTM (long short-term memory) is an updated version of an RNN to overcome the vanishing gradient problem.\n",
    "* An LSTM has a memory cell at the top which helps to carry the information from a particular time instance to the next time instance in an efficient manner. \n",
    "* Information might be added or removed from the memory cell with the help of valves."
   ]
  },
  {
   "cell_type": "markdown",
   "metadata": {
    "slideshow": {
     "slide_type": "slide"
    },
    "tags": []
   },
   "source": [
    "### Model definition\n",
    "🤓: Understand and change the parameters for generating your lstm."
   ]
  },
  {
   "cell_type": "code",
   "execution_count": 10,
   "metadata": {
    "slideshow": {
     "slide_type": "fragment"
    },
    "tags": []
   },
   "outputs": [],
   "source": [
    "def create_binary_classification_lstm(input_shape,\n",
    "                embed_dim=128,\n",
    "                lstm_out=196,\n",
    "                dropout = 0.1,\n",
    "                dropout_1d=0.4,\n",
    "                recurrent_dropout=0.1,\n",
    "                print_summary=False\n",
    "                ):\n",
    "    nn = Sequential()\n",
    "    nn.add(Embedding(max_features, embed_dim, input_length=input_shape))\n",
    "    nn.add(SpatialDropout1D(dropout_1d))\n",
    "    nn.add(LSTM(lstm_out, dropout=dropout, recurrent_dropout=recurrent_dropout))\n",
    "    nn.add(Dense(3, activation='softmax'))  # shape 1 since we have a 1 dimensional output label\n",
    "    nn.compile(loss='categorical_crossentropy', optimizer='adam', metrics=['accuracy'])\n",
    "    if print_summary:\n",
    "        print(nn.summary())\n",
    "    return nn"
   ]
  },
  {
   "cell_type": "markdown",
   "metadata": {
    "slideshow": {
     "slide_type": "slide"
    },
    "tags": []
   },
   "source": [
    "### Model training and evaluation\n",
    "\n",
    "* Neural Networks are incrementally trained in epochs. \n",
    "* Other ML models get one-time fitted to the data. \n",
    "* Training not long enough might lead to model \"underfitting\".\n",
    "* Training for too long might cause \"overfitting\". \n",
    "* To find the sweet spot w.r.t. the number of epochs, we define an early stopping criterion:\n",
    "\n",
    "🤓: Change the stopping rule. How does it impact performance?"
   ]
  },
  {
   "cell_type": "code",
   "execution_count": 11,
   "metadata": {
    "slideshow": {
     "slide_type": "fragment"
    },
    "tags": []
   },
   "outputs": [],
   "source": [
    "es = EarlyStopping(monitor='val_loss', mode='min', verbose=1, patience=5) # stop if validation loss does not increase for 5 epochs in a row"
   ]
  },
  {
   "cell_type": "code",
   "execution_count": 12,
   "metadata": {
    "slideshow": {
     "slide_type": "subslide"
    },
    "tags": []
   },
   "outputs": [
    {
     "name": "stderr",
     "output_type": "stream",
     "text": [
      "2021-10-01 08:27:19.967783: I tensorflow/core/platform/cpu_feature_guard.cc:142] This TensorFlow binary is optimized with oneAPI Deep Neural Network Library (oneDNN) to use the following CPU instructions in performance-critical operations:  AVX2 FMA\n",
      "To enable them in other operations, rebuild TensorFlow with the appropriate compiler flags.\n",
      "2021-10-01 08:27:20.298602: I tensorflow/compiler/mlir/mlir_graph_optimization_pass.cc:185] None of the MLIR Optimization Passes are enabled (registered 2)\n"
     ]
    },
    {
     "name": "stdout",
     "output_type": "stream",
     "text": [
      "Epoch 1/10\n",
      "261/261 - 23s - loss: 0.8574 - accuracy: 0.6271 - val_loss: 0.7933 - val_accuracy: 0.6521\n",
      "Epoch 2/10\n",
      "261/261 - 17s - loss: 0.7568 - accuracy: 0.6687 - val_loss: 0.7601 - val_accuracy: 0.6662\n",
      "Epoch 3/10\n",
      "261/261 - 17s - loss: 0.7279 - accuracy: 0.6830 - val_loss: 0.7744 - val_accuracy: 0.6611\n",
      "Epoch 4/10\n",
      "261/261 - 13s - loss: 0.7139 - accuracy: 0.6915 - val_loss: 0.7869 - val_accuracy: 0.6651\n",
      "Epoch 5/10\n",
      "261/261 - 18s - loss: 0.7008 - accuracy: 0.6954 - val_loss: 0.7612 - val_accuracy: 0.6691\n",
      "Epoch 6/10\n",
      "261/261 - 17s - loss: 0.6870 - accuracy: 0.7021 - val_loss: 0.7733 - val_accuracy: 0.6680\n",
      "Epoch 7/10\n",
      "261/261 - 17s - loss: 0.6766 - accuracy: 0.7064 - val_loss: 0.7784 - val_accuracy: 0.6579\n",
      "Epoch 00007: early stopping\n"
     ]
    }
   ],
   "source": [
    "MAX_EPOCHS = 10 #0\n",
    "BATCH_SIZE = 32\n",
    "\n",
    "#train model\n",
    "model = create_binary_classification_lstm(X.shape[1])\n",
    "history = model.fit(X_train, y_train, validation_data=(X_validate, y_validate), epochs=MAX_EPOCHS, batch_size=BATCH_SIZE, verbose=2, callbacks=[es])"
   ]
  },
  {
   "cell_type": "markdown",
   "metadata": {
    "slideshow": {
     "slide_type": "subslide"
    },
    "tags": []
   },
   "source": [
    "### Loss history\n",
    "\n",
    "If validation loss >> training loss you can call it overfitting.  \n",
    "If validation loss  > training loss you can call it some overfitting.  \n",
    "If validation loss  < training loss you can call it some underfitting.  \n",
    "If validation loss << training loss you can call it underfitting. \n",
    "\n",
    "* Our aim is to make the validation loss as low as possible. \n",
    "* Some overfitting is nearly always a good thing. \n",
    "* All that matters in the end is: is the validation loss as low as you can get it.\n",
    "\n",
    "🤓: Do we over- or underfit?"
   ]
  },
  {
   "cell_type": "code",
   "execution_count": 13,
   "metadata": {
    "slideshow": {
     "slide_type": "fragment"
    },
    "tags": []
   },
   "outputs": [
    {
     "data": {
      "image/png": "[encoded data removed]",
      "text/plain": [
       "<Figure size 432x288 with 1 Axes>"
      ]
     },
     "metadata": {
      "needs_background": "light"
     },
     "output_type": "display_data"
    }
   ],
   "source": [
    "plt.plot(history.history['loss'], label='train')\n",
    "plt.plot(history.history['val_loss'], label='val')\n",
    "plt.legend()\n",
    "plt.show()"
   ]
  },
  {
   "cell_type": "markdown",
   "metadata": {
    "slideshow": {
     "slide_type": "slide"
    },
    "tags": []
   },
   "source": [
    "# Evaluate final classification metrics"
   ]
  },
  {
   "cell_type": "code",
   "execution_count": 14,
   "metadata": {
    "slideshow": {
     "slide_type": "fragment"
    },
    "tags": []
   },
   "outputs": [
    {
     "name": "stdout",
     "output_type": "stream",
     "text": [
      "Final accuracies: Train: 0.727, Val: 0.658, Test: 0.664\n"
     ]
    }
   ],
   "source": [
    "_, train_acc = model.evaluate(X_train, y_train, verbose=0)\n",
    "_, val_acc = model.evaluate(X_validate, y_validate, verbose=0)\n",
    "_, test_acc = model.evaluate(X_test, y_test, verbose=0)\n",
    "print('Final accuracies: Train: %.3f, Val: %.3f, Test: %.3f'  % (train_acc, val_acc, test_acc))"
   ]
  },
  {
   "cell_type": "markdown",
   "metadata": {
    "slideshow": {
     "slide_type": "slide"
    },
    "tags": []
   },
   "source": [
    "# It's your turn! 🧑‍💻 ~7'"
   ]
  }
 ],
 "metadata": {
  "kernelspec": {
   "display_name": "Python 3 (ipykernel)",
   "language": "python",
   "name": "python3"
  },
  "language_info": {
   "codemirror_mode": {
    "name": "ipython",
    "version": 3
   },
   "file_extension": ".py",
   "mimetype": "text/x-python",
   "name": "python",
   "nbconvert_exporter": "python",
   "pygments_lexer": "ipython3",
   "version": "3.9.6"
  }
 },
 "nbformat": 4,
 "nbformat_minor": 4
}
