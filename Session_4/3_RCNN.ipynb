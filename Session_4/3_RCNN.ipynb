{
 "cells": [
  {
   "cell_type": "markdown",
   "metadata": {
    "slideshow": {
     "slide_type": "skip"
    },
    "tags": []
   },
   "source": [
    "Code was developed together with Agajan Torayev and Tobias Elvermann."
   ]
  },
  {
   "cell_type": "code",
   "execution_count": 1,
   "metadata": {
    "slideshow": {
     "slide_type": "skip"
    },
    "tags": []
   },
   "outputs": [],
   "source": [
    "import datetime\n",
    "now = datetime.datetime.now()"
   ]
  },
  {
   "cell_type": "markdown",
   "metadata": {
    "slideshow": {
     "slide_type": "slide"
    },
    "tags": []
   },
   "source": [
    "# Recurrent Convolutional Neural Networks\n",
    "\n",
    "## Summer School JGU Mainz — Advanced Methods in Behavioral Economics, 2021\n",
    "\n",
    "### Carina I. Hausladen"
   ]
  },
  {
   "cell_type": "code",
   "execution_count": 2,
   "metadata": {
    "slideshow": {
     "slide_type": "fragment"
    },
    "tags": []
   },
   "outputs": [
    {
     "name": "stdout",
     "output_type": "stream",
     "text": [
      "2021-09-22\n"
     ]
    }
   ],
   "source": [
    "print(now.strftime(\"%Y-%m-%d\"))"
   ]
  },
  {
   "cell_type": "code",
   "execution_count": 3,
   "metadata": {
    "collapsed": false,
    "jupyter": {
     "outputs_hidden": false
    },
    "pycharm": {
     "name": "#%%\n"
    },
    "slideshow": {
     "slide_type": "skip"
    },
    "tags": []
   },
   "outputs": [
    {
     "name": "stderr",
     "output_type": "stream",
     "text": [
      "Enabling notebook extension jupyter-js-widgets/extension...\n",
      "      - Validating: ok\n"
     ]
    }
   ],
   "source": [
    "!jupyter nbextension enable --py widgetsnbextension"
   ]
  },
  {
   "cell_type": "code",
   "execution_count": 17,
   "metadata": {
    "collapsed": false,
    "jupyter": {
     "outputs_hidden": false
    },
    "pycharm": {
     "name": "#%%\n"
    },
    "slideshow": {
     "slide_type": "skip"
    },
    "tags": []
   },
   "outputs": [
    {
     "data": {
      "application/vnd.jupyter.widget-view+json": {
       "model_id": "9ec6de69c5ba4c569b861e9859c29916",
       "version_major": 2,
       "version_minor": 0
      },
      "text/plain": [
       "0it [00:00, ?it/s]"
      ]
     },
     "metadata": {},
     "output_type": "display_data"
    }
   ],
   "source": [
    "from __future__ import print_function\n",
    "\n",
    "import warnings\n",
    "\n",
    "warnings.simplefilter(\"ignore\")\n",
    "\n",
    "import matplotlib.pylab as plt\n",
    "import numpy as np\n",
    "import pandas as pd\n",
    "%matplotlib inline\n",
    "\n",
    "import nltk\n",
    "from sklearn.metrics import precision_recall_fscore_support, accuracy_score, confusion_matrix, ConfusionMatrixDisplay\n",
    "\n",
    "from tqdm import tqdm_notebook\n",
    "\n",
    "tqdm_notebook().pandas()\n",
    "\n",
    "import bokeh.plotting as bp\n",
    "from bokeh.models import HoverTool\n",
    "from bokeh.plotting import show, output_notebook, reset_output\n",
    "from bokeh.models.sources import ColumnDataSource\n",
    "\n",
    "from keras.preprocessing import sequence\n",
    "from keras.models import Sequential\n",
    "from keras.layers import Dense, Dropout, Activation\n",
    "from keras.layers import Embedding\n",
    "from keras.layers import LSTM\n",
    "from keras.layers import Conv1D, MaxPooling1D\n",
    "from keras.preprocessing.text import Tokenizer"
   ]
  },
  {
   "cell_type": "code",
   "execution_count": 5,
   "metadata": {
    "collapsed": false,
    "jupyter": {
     "outputs_hidden": false
    },
    "pycharm": {
     "name": "#%%\n"
    },
    "slideshow": {
     "slide_type": "notes"
    },
    "tags": []
   },
   "outputs": [
    {
     "name": "stderr",
     "output_type": "stream",
     "text": [
      "[nltk_data] Downloading package wordnet to\n",
      "[nltk_data]     C:\\Users\\kman\\AppData\\Roaming\\nltk_data...\n",
      "[nltk_data]   Package wordnet is already up-to-date!\n"
     ]
    }
   ],
   "source": [
    "nltk.download('wordnet');"
   ]
  },
  {
   "cell_type": "markdown",
   "metadata": {
    "slideshow": {
     "slide_type": "slide"
    },
    "tags": []
   },
   "source": [
    "# Data\n",
    "Data and research idea are provided by [Prof. Dr. Martin Fochmann, FU Berlin](https://www.wiwiss.fu-berlin.de/fachbereich/bwl/pruefungs-steuerlehre/fochmann/Team/Prof_-Dr_-Fochmann/index.html) <br>\n",
    "Data includes tax reports from German companies listed in the STOXX Europe 600. <br>\n",
    "\n",
    "y: hand-coded <br>\n",
    "X: if the keywords tax\\* and/or risk\\* were found, 15 words before and after the keyword were extracted and entered as a separate row.\n"
   ]
  },
  {
   "cell_type": "markdown",
   "metadata": {
    "slideshow": {
     "slide_type": "slide"
    },
    "tags": []
   },
   "source": [
    "## Recurrent Convolutional Neural Networks\n",
    "[Lai et al. (2015)](https://www.aaai.org/ocs/index.php/AAAI/AAAI15/paper/viewPaper/9745) <br>\n",
    "RCNN improve upon RecursiveNN, RecurrentNN, and CNNs."
   ]
  },
  {
   "cell_type": "markdown",
   "metadata": {
    "slideshow": {
     "slide_type": "subslide"
    },
    "tags": []
   },
   "source": [
    "### Recursive Neural Network\n",
    "[Socher et al. (2013)](https://aclanthology.org/D13-1170.pdf).\n",
    "- RecursiveNN capture the semantics of a sentence via a tree structure.\n",
    "- Advantage: Efficient in constructing sentence representations.\n",
    "- Disadvantages\n",
    "   - Time complexity is high: at least $O(n^2)$, where $n$ is the length of the text.\n",
    "   - RecursiveNN are unsuitable for modeling long sentences or documents."
   ]
  },
  {
   "cell_type": "markdown",
   "metadata": {
    "slideshow": {
     "slide_type": "subslide"
    },
    "tags": []
   },
   "source": [
    "### Recurrent Neural Network\n",
    "- Analyzes a text word by word and stores the semantics of all the previous text in a hidden layer ([Elman 1990](https://onlinelibrary.wiley.com/doi/abs/10.1207/s15516709cog1402_1)). \n",
    "- Advantage: Captures contextual information.  \n",
    "- Disadvantages\n",
    "    - Later words are more dominant than earlier words (bias!). \n",
    "    - Weak in capturing the semantics of a whole document (because key components could appear anywhere in a document rather than at the end).\n",
    "- A recurrent cell can be viewed as multiple feedforward cells which propagate their output through time steps:\n",
    "\n",
    "<img src=\"figures/recurrent_cell.png\" alt=\"mlp\" width=\"500\"/>"
   ]
  },
  {
   "cell_type": "markdown",
   "metadata": {
    "slideshow": {
     "slide_type": "subslide"
    },
    "tags": []
   },
   "source": [
    "### Convolutional Neural Network\n",
    "- Unbiased model\n",
    "- Determines discriminative phrases in a text with a max-pooling layer. \n",
    "- Advantages\n",
    "    - Better captures the semantic of texts as compared RecursiveNN or RecurrentNN.\n",
    "    - Time complexity is $O(n)$. \n",
    "- Disadvantage\n",
    "    - It is difficult to determine the window size.\n",
    "    - Small windows may result in the loss of some critical information.\n",
    "    - Large windows result in an enormous parameter space (which could be difficult to train). "
   ]
  },
  {
   "cell_type": "markdown",
   "metadata": {},
   "source": [
    "Can we learn more contextual information than conventional window-based neural networks and represent the semantic of texts more precisely?"
   ]
  },
  {
   "cell_type": "markdown",
   "metadata": {
    "slideshow": {
     "slide_type": "subslide"
    },
    "tags": []
   },
   "source": [
    "### RCNN\n",
    "- Bi-directional recurrent structure\n",
    "    - Introduces less noise compared to a traditional window-based neural network.\n",
    "    - Captures the contextual information when learning word representations. \n",
    "    - Reserves a larger range of the word ordering when learning representations of texts. \n",
    "- The max-pooling layer automatically judges which features play key roles in text classification.\n",
    "- Time complexity is $O(n)$"
   ]
  },
  {
   "cell_type": "markdown",
   "metadata": {
    "slideshow": {
     "slide_type": "slide"
    },
    "tags": []
   },
   "source": [
    "### Read Data"
   ]
  },
  {
   "cell_type": "code",
   "execution_count": 6,
   "metadata": {
    "collapsed": false,
    "jupyter": {
     "outputs_hidden": false
    },
    "pycharm": {
     "name": "#%%\n"
    },
    "slideshow": {
     "slide_type": "fragment"
    },
    "tags": []
   },
   "outputs": [],
   "source": [
    "train_df = pd.read_csv('data/tax_risk_train.csv')\n",
    "test_df = pd.read_csv('data/tax_risk_test.csv')"
   ]
  },
  {
   "cell_type": "code",
   "execution_count": 7,
   "metadata": {
    "collapsed": false,
    "jupyter": {
     "outputs_hidden": false
    },
    "pycharm": {
     "name": "#%%\n"
    },
    "slideshow": {
     "slide_type": "subslide"
    },
    "tags": []
   },
   "outputs": [],
   "source": [
    "def get_train_test_data(y_i):\n",
    "    tok = Tokenizer(num_words=max_features, split=' ')\n",
    "    tok.fit_on_texts(train_df['x_sentences'].values)\n",
    "    X_train = tok.texts_to_sequences(train_df['x_sentences'].values)\n",
    "    Y_train = pd.get_dummies(train_df[y_i]).values\n",
    "\n",
    "    X_test = tok.texts_to_sequences(test_df['x_sentences'].values)\n",
    "    Y_test = pd.get_dummies(test_df[y_i]).values\n",
    "\n",
    "    X_train = sequence.pad_sequences(X_train, maxlen=maxlen)\n",
    "    X_test = sequence.pad_sequences(X_test, maxlen=maxlen)\n",
    "    return X_train, Y_train, X_test, Y_test"
   ]
  },
  {
   "cell_type": "markdown",
   "metadata": {
    "slideshow": {
     "slide_type": "slide"
    },
    "tags": []
   },
   "source": [
    "### Build Model"
   ]
  },
  {
   "cell_type": "code",
   "execution_count": 8,
   "metadata": {
    "collapsed": false,
    "jupyter": {
     "outputs_hidden": false
    },
    "pycharm": {
     "name": "#%%\n"
    },
    "slideshow": {
     "slide_type": "fragment"
    },
    "tags": []
   },
   "outputs": [],
   "source": [
    "# Embedding\n",
    "max_features = 1000\n",
    "maxlen = 500\n",
    "embedding_size = 64\n",
    "\n",
    "# Convolution\n",
    "kernel_size = 5\n",
    "filters = 64\n",
    "pool_size = 4\n",
    "\n",
    "# LSTM\n",
    "lstm_output_size = 70\n",
    "\n",
    "# Training\n",
    "batch_size = 30\n",
    "epochs = 1"
   ]
  },
  {
   "cell_type": "code",
   "execution_count": 9,
   "metadata": {
    "collapsed": false,
    "jupyter": {
     "outputs_hidden": false
    },
    "pycharm": {
     "name": "#%%\n"
    },
    "slideshow": {
     "slide_type": "subslide"
    },
    "tags": []
   },
   "outputs": [
    {
     "name": "stdout",
     "output_type": "stream",
     "text": [
      "Model: \"RCNN\"\n",
      "_________________________________________________________________\n",
      "Layer (type)                 Output Shape              Param #   \n",
      "=================================================================\n",
      "embedding (Embedding)        (None, 500, 64)           64000     \n",
      "_________________________________________________________________\n",
      "dropout (Dropout)            (None, 500, 64)           0         \n",
      "_________________________________________________________________\n",
      "conv1d (Conv1D)              (None, 496, 64)           20544     \n",
      "_________________________________________________________________\n",
      "max_pooling1d (MaxPooling1D) (None, 124, 64)           0         \n",
      "_________________________________________________________________\n",
      "lstm (LSTM)                  (None, 70)                37800     \n",
      "_________________________________________________________________\n",
      "dense (Dense)                (None, 2)                 142       \n",
      "_________________________________________________________________\n",
      "activation (Activation)      (None, 2)                 0         \n",
      "=================================================================\n",
      "Total params: 122,486\n",
      "Trainable params: 122,486\n",
      "Non-trainable params: 0\n",
      "_________________________________________________________________\n",
      "None\n"
     ]
    }
   ],
   "source": [
    "def build_RCNN_model(print_summary=True):\n",
    "    model = Sequential(name=\"RCNN\")\n",
    "    model.add(Embedding(max_features, embedding_size,\n",
    "                        input_length=maxlen))\n",
    "    model.add(Dropout(0.25))\n",
    "    model.add(Conv1D(filters,\n",
    "                     kernel_size,\n",
    "                     padding='valid',\n",
    "                     activation='relu',\n",
    "                     strides=1))\n",
    "    model.add(MaxPooling1D(pool_size=pool_size))\n",
    "    model.add(LSTM(lstm_output_size))\n",
    "    model.add(Dense(2))\n",
    "    model.add(Activation('sigmoid'))\n",
    "\n",
    "    model.compile(loss='binary_crossentropy',\n",
    "                  optimizer='adam',\n",
    "                  metrics=['accuracy'])\n",
    "    if print_summary:\n",
    "        print(model.summary())\n",
    "    return model\n",
    "\n",
    "#just for illustration purpose\n",
    "_ = build_RCNN_model()"
   ]
  },
  {
   "cell_type": "code",
   "execution_count": 10,
   "metadata": {},
   "outputs": [],
   "source": [
    "def train_and_evaluate_RCNN_model(model, X_train, Y_train, X_test, Y_test):\n",
    "    print('Train...')\n",
    "    model.fit(X_train, Y_train,\n",
    "              batch_size=batch_size,\n",
    "              epochs=epochs)\n",
    "\n",
    "    loss, acc = model.evaluate(X_train, Y_train, batch_size=batch_size)\n",
    "    print(\"Evaluate training set.\")\n",
    "    print(\"Loss on train set: \", loss)\n",
    "    print(\"Accuracy on train set: \", acc)\n",
    "\n",
    "    loss, acc = model.evaluate(X_test, Y_test, batch_size=batch_size)\n",
    "    print(\"Evaluate test set.\")\n",
    "    print(\"Score on test set: \", loss)\n",
    "    print(\"Accuracy on test set: \", acc)\n",
    "    Y_pred = model.predict(X_test)\n",
    "    return np.argmax(Y_pred, axis=1)"
   ]
  },
  {
   "cell_type": "markdown",
   "metadata": {
    "slideshow": {
     "slide_type": "slide"
    },
    "tags": []
   },
   "source": [
    "### Get performance metrics"
   ]
  },
  {
   "cell_type": "code",
   "execution_count": 11,
   "metadata": {
    "collapsed": false,
    "jupyter": {
     "outputs_hidden": false
    },
    "pycharm": {
     "name": "#%%\n"
    },
    "slideshow": {
     "slide_type": "fragment"
    },
    "tags": []
   },
   "outputs": [
    {
     "name": "stdout",
     "output_type": "stream",
     "text": [
      "Train...\n",
      "563/563 [==============================] - 52s 89ms/step - loss: 0.3441 - accuracy: 0.8615\n",
      "563/563 [==============================] - 13s 22ms/step - loss: 0.2867 - accuracy: 0.8908\n",
      "Evaluate training set.\n",
      "Loss on train set:  0.2867197096347809\n",
      "Accuracy on train set:  0.890771210193634\n",
      "209/209 [==============================] - 4s 21ms/step - loss: 0.3289 - accuracy: 0.8625\n",
      "Evaluate test set.\n",
      "Score on test set:  0.32890745997428894\n",
      "Accuracy on test set:  0.8624600768089294\n",
      "Train...\n",
      "563/563 [==============================] - 52s 89ms/step - loss: 0.2484 - accuracy: 0.9151\n",
      "563/563 [==============================] - 14s 24ms/step - loss: 0.1880 - accuracy: 0.9321\n",
      "Evaluate training set.\n",
      "Loss on train set:  0.18798673152923584\n",
      "Accuracy on train set:  0.9321170449256897\n",
      "209/209 [==============================] - 5s 26ms/step - loss: 0.2017 - accuracy: 0.9252\n",
      "Evaluate test set.\n",
      "Score on test set:  0.20166146755218506\n",
      "Accuracy on test set:  0.925239622592926\n",
      "Train...\n",
      "563/563 [==============================] - 56s 96ms/step - loss: 0.1594 - accuracy: 0.9591\n",
      "563/563 [==============================] - 15s 26ms/step - loss: 0.1173 - accuracy: 0.9617\n",
      "Evaluate training set.\n",
      "Loss on train set:  0.117258720099926\n",
      "Accuracy on train set:  0.961734414100647\n",
      "209/209 [==============================] - 6s 27ms/step - loss: 0.1281 - accuracy: 0.9642\n",
      "Evaluate test set.\n",
      "Score on test set:  0.1280895620584488\n",
      "Accuracy on test set:  0.9642172455787659\n"
     ]
    }
   ],
   "source": [
    "results = {}\n",
    "for y in [\"y1\", \"y2\", \"y3\"]:\n",
    "    results[y] = {}\n",
    "    X_train, y_train, X_test, y_test = get_train_test_data(y)\n",
    "    model = build_RCNN_model(print_summary=False)\n",
    "    y_pred = train_and_evaluate_RCNN_model(model, X_train, y_train, X_test, y_test)\n",
    "    y_test = np.argmax(y_test, axis=1)\n",
    "    accuracy = accuracy_score(y_test, y_pred, normalize=True, sample_weight=None)\n",
    "    precision, recall, f1, _ = precision_recall_fscore_support(y_test, y_pred, average=\"weighted\")\n",
    "    cm = confusion_matrix(y_test, y_pred)\n",
    "    results[y][\"RCNN\"] = {\"accuracy\": accuracy, \"precision\": precision, \"recall\": recall, \"f-score\": f1, \"confusion_matrix\": cm}"
   ]
  },
  {
   "cell_type": "code",
   "execution_count": 19,
   "metadata": {
    "collapsed": false,
    "jupyter": {
     "outputs_hidden": false
    },
    "pycharm": {
     "name": "#%%\n"
    },
    "slideshow": {
     "slide_type": "subslide"
    },
    "tags": []
   },
   "outputs": [
    {
     "data": {
      "image/png": "[encoded data removed]",
      "text/plain": [
       "<Figure size 432x288 with 2 Axes>"
      ]
     },
     "metadata": {
      "needs_background": "light"
     },
     "output_type": "display_data"
    },
    {
     "data": {
      "image/png": "[encoded data removed]",
      "text/plain": [
       "<Figure size 432x288 with 2 Axes>"
      ]
     },
     "metadata": {
      "needs_background": "light"
     },
     "output_type": "display_data"
    },
    {
     "data": {
      "image/png": "[encoded data removed]",
      "text/plain": [
       "<Figure size 432x288 with 2 Axes>"
      ]
     },
     "metadata": {
      "needs_background": "light"
     },
     "output_type": "display_data"
    }
   ],
   "source": [
    "for y in [\"y1\", \"y2\", \"y3\"]:\n",
    "    ConfusionMatrixDisplay(results[y][\"RCNN\"][\"confusion_matrix\"]).plot()"
   ]
  },
  {
   "cell_type": "markdown",
   "metadata": {
    "slideshow": {
     "slide_type": "slide"
    },
    "tags": []
   },
   "source": [
    "## Comparison to shallow classifiers from session 2"
   ]
  },
  {
   "cell_type": "code",
   "execution_count": 23,
   "metadata": {
    "slideshow": {
     "slide_type": "skip"
    },
    "tags": []
   },
   "outputs": [],
   "source": [
    "import pickle\n",
    "with open('data/session2_results.pickle', 'rb') as handle:\n",
    "    s2_results = pickle.load(handle)"
   ]
  },
  {
   "cell_type": "code",
   "execution_count": 26,
   "metadata": {
    "slideshow": {
     "slide_type": "skip"
    },
    "tags": []
   },
   "outputs": [],
   "source": [
    "for y in [\"y1\", \"y2\", \"y3\"]:\n",
    "    del results[y][\"RCNN\"][\"confusion_matrix\"]\n",
    "    results[y] = s2_results[y] | results[y] # joining dictionaries this way is only possible in py>3.9"
   ]
  },
  {
   "cell_type": "code",
   "execution_count": 28,
   "metadata": {
    "slideshow": {
     "slide_type": "subslide"
    },
    "tags": []
   },
   "outputs": [
    {
     "data": {
      "image/png": "[encoded data removed]",
      "text/plain": [
       "<Figure size 1080x720 with 3 Axes>"
      ]
     },
     "metadata": {
      "needs_background": "light"
     },
     "output_type": "display_data"
    }
   ],
   "source": [
    "plot_args = {\"rot\": 0, \"figsize\":(15, 10), \"ylim\": (0.7, 1)}\n",
    "fig, axes = plt.subplots(nrows=3, ncols=1)\n",
    "pd.DataFrame(results[\"y1\"]).T.plot.bar(ax=axes[0], title=\"y1\", **plot_args)\n",
    "pd.DataFrame(results[\"y2\"]).T.plot.bar(ax=axes[1], title=\"y2\", legend=False, **plot_args)\n",
    "pd.DataFrame(results[\"y3\"]).T.plot.bar(ax=axes[2], title=\"y3\", legend=False, **plot_args);"
   ]
  }
 ],
 "metadata": {
  "celltoolbar": "Slideshow",
  "hide_code_all_hidden": false,
  "kernelspec": {
   "display_name": "Python 3 (ipykernel)",
   "language": "python",
   "name": "python3"
  },
  "language_info": {
   "codemirror_mode": {
    "name": "ipython",
    "version": 3
   },
   "file_extension": ".py",
   "mimetype": "text/x-python",
   "name": "python",
   "nbconvert_exporter": "python",
   "pygments_lexer": "ipython3",
   "version": "3.9.6"
  },
  "toc": {
   "base_numbering": 1,
   "nav_menu": {},
   "number_sections": true,
   "sideBar": true,
   "skip_h1_title": false,
   "title_cell": "Table of Contents",
   "title_sidebar": "Contents",
   "toc_cell": false,
   "toc_position": {
    "height": "calc(100% - 180px)",
    "left": "10px",
    "top": "150px",
    "width": "319px"
   },
   "toc_section_display": true,
   "toc_window_display": true
  },
  "toc-autonumbering": false,
  "toc-showtags": false
 },
 "nbformat": 4,
 "nbformat_minor": 4
}
