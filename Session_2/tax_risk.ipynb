{
 "cells": [
  {
   "cell_type": "code",
   "execution_count": 1,
   "metadata": {
    "collapsed": false,
    "jupyter": {
     "outputs_hidden": false
    },
    "pycharm": {
     "name": "#%%\n"
    },
    "slideshow": {
     "slide_type": "skip"
    },
    "tags": []
   },
   "outputs": [
    {
     "name": "stdout",
     "output_type": "stream",
     "text": [
      "Enabling notebook extension jupyter-js-widgets/extension...\n",
      "      - Validating: \u001B[32mOK\u001B[0m\n"
     ]
    }
   ],
   "source": [
    "!jupyter nbextension enable --py widgetsnbextension"
   ]
  },
  {
   "cell_type": "markdown",
   "metadata": {
    "slideshow": {
     "slide_type": "slide"
    },
    "tags": []
   },
   "source": [
    "# Investigating Tax Risk Management\n",
    "\n",
    "## Summer School JGU Mainz — Advanced Methods in Behavioral Economics, 2021\n",
    "\n",
    "### Carina I. Hausladen"
   ]
  },
  {
   "cell_type": "code",
   "execution_count": 2,
   "metadata": {
    "slideshow": {
     "slide_type": "fragment"
    },
    "tags": []
   },
   "outputs": [
    {
     "name": "stdout",
     "output_type": "stream",
     "text": [
      "2021-09-25\n"
     ]
    }
   ],
   "source": [
    "from datetime import datetime\n",
    "\n",
    "print(datetime.now().strftime(\"%Y-%m-%d\"))"
   ]
  },
  {
   "cell_type": "code",
   "execution_count": 3,
   "metadata": {
    "collapsed": false,
    "jupyter": {
     "outputs_hidden": false
    },
    "pycharm": {
     "name": "#%%\n"
    },
    "slideshow": {
     "slide_type": "skip"
    },
    "tags": []
   },
   "outputs": [
    {
     "data": {
      "application/vnd.jupyter.widget-view+json": {
       "model_id": "ce65d24675614474807a98a6e6171ff9",
       "version_major": 2,
       "version_minor": 0
      },
      "text/plain": [
       "0it [00:00, ?it/s]"
      ]
     },
     "metadata": {},
     "output_type": "display_data"
    }
   ],
   "source": [
    "import re\n",
    "import sys\n",
    "from unicodedata import normalize\n",
    "from __future__ import print_function\n",
    "import warnings\n",
    "\n",
    "warnings.simplefilter(\"ignore\")\n",
    "\n",
    "import numpy as np\n",
    "import pandas as pd\n",
    "import matplotlib.pylab as plt\n",
    "import seaborn as sns\n",
    "%matplotlib inline\n",
    "\n",
    "if not sys.warnoptions:\n",
    "    warnings.simplefilter(\"ignore\")\n",
    "\n",
    "import nltk\n",
    "from nltk.stem import WordNetLemmatizer\n",
    "\n",
    "from sklearn.linear_model import PassiveAggressiveClassifier\n",
    "from sklearn.naive_bayes import MultinomialNB\n",
    "from sklearn import metrics\n",
    "from sklearn.metrics import precision_recall_fscore_support, accuracy_score\n",
    "from sklearn.feature_extraction.text import TfidfVectorizer, CountVectorizer\n",
    "from sklearn.model_selection import GroupShuffleSplit\n",
    "\n",
    "from tqdm import tqdm_notebook\n",
    "\n",
    "tqdm_notebook().pandas()"
   ]
  },
  {
   "cell_type": "code",
   "execution_count": 4,
   "metadata": {
    "collapsed": false,
    "jupyter": {
     "outputs_hidden": false
    },
    "pycharm": {
     "name": "#%%\n"
    },
    "slideshow": {
     "slide_type": "skip"
    },
    "tags": []
   },
   "outputs": [
    {
     "name": "stderr",
     "output_type": "stream",
     "text": [
      "[nltk_data] Downloading package wordnet to /Users/carinah/nltk_data...\n",
      "[nltk_data]   Package wordnet is already up-to-date!\n"
     ]
    }
   ],
   "source": [
    "nltk.download('wordnet');"
   ]
  },
  {
   "cell_type": "markdown",
   "metadata": {
    "slideshow": {
     "slide_type": "slide"
    },
    "tags": []
   },
   "source": [
    "*Code was developed together with Agajan Torayev and Tobias Elvermann.*\n",
    "# Introduction\n",
    "[Lavermicocca (2011)](https://heinonline.org/HOL/Page?handle=hein.journals/ejotaxrs9&div=9&g_sent=1&casa_token=4gQ_iUfuMUEAAAAA:95FZyqAl-ex8Cuk9HMwhLQNlgl1WEVpFDB6hZeLnurXsN1bA_zNg3MjkKBtdz5GK_QO2gD9niTs)\n",
    "\n",
    "-  How do tax risk management practices of large corporations in Germany look like? \n",
    "- More precisely, we want to investigate\n",
    "    - tax risk decision making \n",
    "    - variables that impact tax risk \n",
    "    - the ability to manage tax risk \n",
    "    - tax risk management practices"
   ]
  },
  {
   "cell_type": "markdown",
   "metadata": {
    "slideshow": {
     "slide_type": "slide"
    },
    "tags": []
   },
   "source": [
    "# Data\n",
    "Data and research idea are provided by [Prof. Dr. Martin Fochmann, FU Berlin](https://www.wiwiss.fu-berlin.de/fachbereich/bwl/pruefungs-steuerlehre/fochmann/Team/Prof_-Dr_-Fochmann/index.html). <br>\n",
    "Data includes tax reports from German companies listed in the STOXX Europe 600. <br>\n",
    "\n",
    "y: hand-coded <br>\n",
    "X: If the keywords tax\\* and/or risk\\* were found, 15 words before and after the keyword were extracted and entered as a separate row."
   ]
  },
  {
   "cell_type": "code",
   "execution_count": 5,
   "metadata": {
    "collapsed": false,
    "jupyter": {
     "outputs_hidden": false
    },
    "pycharm": {
     "name": "#%%\n"
    },
    "slideshow": {
     "slide_type": "subslide"
    },
    "tags": []
   },
   "outputs": [
    {
     "data": {
      "text/html": [
       "<div>\n",
       "<style scoped>\n",
       "    .dataframe tbody tr th:only-of-type {\n",
       "        vertical-align: middle;\n",
       "    }\n",
       "\n",
       "    .dataframe tbody tr th {\n",
       "        vertical-align: top;\n",
       "    }\n",
       "\n",
       "    .dataframe thead th {\n",
       "        text-align: right;\n",
       "    }\n",
       "</style>\n",
       "<table border=\"1\" class=\"dataframe\">\n",
       "  <thead>\n",
       "    <tr style=\"text-align: right;\">\n",
       "      <th></th>\n",
       "      <th>x</th>\n",
       "      <th>company</th>\n",
       "      <th>y1</th>\n",
       "      <th>y2</th>\n",
       "      <th>y3</th>\n",
       "    </tr>\n",
       "  </thead>\n",
       "  <tbody>\n",
       "    <tr>\n",
       "      <th>0</th>\n",
       "      <td>in the event of increases and decreases in val...</td>\n",
       "      <td>acs</td>\n",
       "      <td>1</td>\n",
       "      <td>1</td>\n",
       "      <td>1</td>\n",
       "    </tr>\n",
       "    <tr>\n",
       "      <th>1</th>\n",
       "      <td>ACS Group since  2011, has de? ned a risk  con...</td>\n",
       "      <td>acs</td>\n",
       "      <td>1</td>\n",
       "      <td>0</td>\n",
       "      <td>0</td>\n",
       "    </tr>\n",
       "    <tr>\n",
       "      <th>2</th>\n",
       "      <td>rec  oGnition   Revenue is recognised to the...</td>\n",
       "      <td>acs</td>\n",
       "      <td>0</td>\n",
       "      <td>0</td>\n",
       "      <td>0</td>\n",
       "    </tr>\n",
       "    <tr>\n",
       "      <th>3</th>\n",
       "      <td>salary is paid   into an external fund. In add...</td>\n",
       "      <td>acs</td>\n",
       "      <td>0</td>\n",
       "      <td>0</td>\n",
       "      <td>0</td>\n",
       "    </tr>\n",
       "    <tr>\n",
       "      <th>4</th>\n",
       "      <td>them. The lawsuits, although numerous, repre...</td>\n",
       "      <td>acs</td>\n",
       "      <td>0</td>\n",
       "      <td>0</td>\n",
       "      <td>0</td>\n",
       "    </tr>\n",
       "  </tbody>\n",
       "</table>\n",
       "</div>"
      ],
      "text/plain": [
       "                                                   x company  y1  y2  y3\n",
       "0  in the event of increases and decreases in val...     acs   1   1   1\n",
       "1  ACS Group since  2011, has de? ned a risk  con...     acs   1   0   0\n",
       "2    rec  oGnition   Revenue is recognised to the...     acs   0   0   0\n",
       "3  salary is paid   into an external fund. In add...     acs   0   0   0\n",
       "4    them. The lawsuits, although numerous, repre...     acs   0   0   0"
      ]
     },
     "execution_count": 5,
     "metadata": {},
     "output_type": "execute_result"
    }
   ],
   "source": [
    "df = pd.read_csv('data/tax_risk_data_simulated.csv')\n",
    "df.head()"
   ]
  },
  {
   "cell_type": "markdown",
   "metadata": {
    "slideshow": {
     "slide_type": "slide"
    },
    "tags": []
   },
   "source": [
    "# Descriptive Statistics\n",
    "## Information on labels (y)\n",
    "\n",
    "- The labels are hand-coded. \n",
    "- Three different labels exist:\n",
    "    - tax risk rudimentary\n",
    "    - tax risk extensive\n",
    "    - tax risk management"
   ]
  },
  {
   "cell_type": "code",
   "execution_count": 6,
   "metadata": {
    "collapsed": false,
    "jupyter": {
     "outputs_hidden": false
    },
    "pycharm": {
     "name": "#%%\n"
    },
    "slideshow": {
     "slide_type": "subslide"
    },
    "tags": []
   },
   "outputs": [
    {
     "name": "stdout",
     "output_type": "stream",
     "text": [
      "The dataset has 23142 entries.\n",
      "The plot shows that a very low percentage of paragraphs are labeled as referring to tax risk.\n"
     ]
    },
    {
     "data": {
      "image/png": "[encoded data removed]",
      "text/plain": [
       "<Figure size 720x360 with 1 Axes>"
      ]
     },
     "metadata": {
      "needs_background": "light"
     },
     "output_type": "display_data"
    }
   ],
   "source": [
    "y1_count = df.y1.value_counts(normalize=True)\n",
    "y2_count = df.y2.value_counts(normalize=True)\n",
    "y3_count = df.y3.value_counts(normalize=True)\n",
    "\n",
    "df2 = pd.DataFrame()\n",
    "df2['y1'] = y1_count\n",
    "df2['y2'] = y2_count\n",
    "df2['y3'] = y3_count\n",
    "\n",
    "print('The dataset has', len(df), 'entries.')\n",
    "df2.plot.bar(figsize=(10, 5))\n",
    "plt.xlabel('labels')\n",
    "plt.ylabel('percentage')\n",
    "print('The plot shows that a very low percentage of paragraphs are labeled as referring to tax risk.')"
   ]
  },
  {
   "cell_type": "markdown",
   "metadata": {
    "slideshow": {
     "slide_type": "slide"
    },
    "tags": []
   },
   "source": [
    "## Information by company\n",
    "The data includes annual reports from German companies listed in the STOXX Europe 600."
   ]
  },
  {
   "cell_type": "code",
   "execution_count": 7,
   "metadata": {
    "slideshow": {
     "slide_type": "skip"
    },
    "tags": []
   },
   "outputs": [
    {
     "name": "stdout",
     "output_type": "stream",
     "text": [
      "Out of 570 companies, 86 did not talk about tax risk at all.\n"
     ]
    }
   ],
   "source": [
    "y1_count = df.groupby('company')['y1'].sum()\n",
    "y2_count = df.groupby(\"company\")['y2'].sum()\n",
    "y3_count = df.groupby(\"company\")['y3'].sum()\n",
    "\n",
    "df2 = pd.DataFrame()\n",
    "df2['y1'] = y1_count\n",
    "df2['y2'] = y2_count\n",
    "df2['y3'] = y3_count\n",
    "\n",
    "df2 = df2.sort_values(['y1', 'y2', 'y3'], ascending=[1, 1, 1])  #sort dataframe\n",
    "count0 = (df2.y1 == 0).sum()  #how many 0\n",
    "print(f'Out of {len(df2)} companies, {count0} did not talk about tax risk at all.')\n",
    "df2 = df2.loc[(df2 != 0).any(axis=1)]  #drop companies with all 0"
   ]
  },
  {
   "cell_type": "markdown",
   "metadata": {},
   "source": [
    "The plot shows that most of the labels come from very few companies. Therefore key features learnt might be company specific."
   ]
  },
  {
   "cell_type": "code",
   "execution_count": 8,
   "metadata": {
    "collapsed": false,
    "jupyter": {
     "outputs_hidden": false
    },
    "pycharm": {
     "name": "#%%\n"
    },
    "slideshow": {
     "slide_type": "subslide"
    },
    "tags": []
   },
   "outputs": [
    {
     "data": {
      "text/plain": [
       "Text(0, 0.5, 'value counts')"
      ]
     },
     "execution_count": 8,
     "metadata": {},
     "output_type": "execute_result"
    },
    {
     "data": {
      "image/png": "[encoded data removed]",
      "text/plain": [
       "<Figure size 1080x576 with 1 Axes>"
      ]
     },
     "metadata": {
      "needs_background": "light"
     },
     "output_type": "display_data"
    }
   ],
   "source": [
    "df2.plot.bar(stacked=True, figsize=(15, 8))\n",
    "plt.xticks([])\n",
    "plt.xlabel('companies')\n",
    "plt.ylabel('value counts')"
   ]
  },
  {
   "cell_type": "markdown",
   "metadata": {
    "slideshow": {
     "slide_type": "slide"
    },
    "tags": []
   },
   "source": [
    "## Annual Reports (X)"
   ]
  },
  {
   "cell_type": "code",
   "execution_count": 9,
   "metadata": {
    "slideshow": {
     "slide_type": "subslide"
    },
    "tags": []
   },
   "outputs": [
    {
     "name": "stdout",
     "output_type": "stream",
     "text": [
      "23142\n"
     ]
    }
   ],
   "source": [
    "print(len(df['x']))"
   ]
  },
  {
   "cell_type": "code",
   "execution_count": 10,
   "metadata": {},
   "outputs": [
    {
     "data": {
      "text/plain": [
       "count    23142.000000\n",
       "mean       122.467980\n",
       "std         63.435621\n",
       "min          9.000000\n",
       "25%         81.000000\n",
       "50%        109.000000\n",
       "75%        147.000000\n",
       "max        836.000000\n",
       "Name: x, dtype: float64"
      ]
     },
     "execution_count": 10,
     "metadata": {},
     "output_type": "execute_result"
    }
   ],
   "source": [
    "#examine number of words per sample\n",
    "df['x'].apply(lambda x: len(x.split(\" \"))).describe()"
   ]
  },
  {
   "cell_type": "markdown",
   "metadata": {},
   "source": [
    "### Basics\n",
    "- Remove capitalization, punctuation, numbers, and stopwords. <br>\n",
    "- Unicode errors (produce by converting pdf to txt) are normalized via [NLTK](https://www.nltk.org).\n",
    "- Stop words are going to be removed later (when vectorizing)."
   ]
  },
  {
   "cell_type": "code",
   "execution_count": 11,
   "metadata": {
    "collapsed": false,
    "jupyter": {
     "outputs_hidden": false
    },
    "pycharm": {
     "name": "#%%\n"
    },
    "slideshow": {
     "slide_type": "subslide"
    },
    "tags": []
   },
   "outputs": [],
   "source": [
    "def _remove_non_ascii(s):\n",
    "    return \"\".join(i for i in s if ord(i) < 128)\n",
    "\n",
    "\n",
    "def clean_text(text):\n",
    "    text = text.lower()\n",
    "    text = normalize('NFKD', text)\n",
    "    text = re.sub(r'\\W+', ' ', text)\n",
    "    text = re.sub(r'\\s+', ' ', text)\n",
    "    text = re.sub(r\"\\\\\", \"\", text)\n",
    "    text = re.sub(r\"\\'\", \"\", text)\n",
    "    text = re.sub(r\"\\\"\", \"\", text)\n",
    "    text = re.sub('[^a-zA-Z ?!]+', '', text)\n",
    "    text = _remove_non_ascii(text)\n",
    "    text = text.strip()\n",
    "    return text"
   ]
  },
  {
   "cell_type": "markdown",
   "metadata": {
    "slideshow": {
     "slide_type": "slide"
    },
    "tags": []
   },
   "source": [
    "### Stemming and Lemmatization\n",
    "\n",
    "[Source](https://nlp.stanford.edu/IR-book/html/htmledition/stemming-and-lemmatization-1.html)\n",
    "\n",
    "- The goal of both stemming and lemmatization is to reduce inflectional forms. \n",
    "- Sometimes derivationally related forms of a word should be transformed to a common base form. \n",
    "\n",
    "\n",
    "am, are, is $\\Rightarrow$ be <br>\n",
    "car, cars, car's, cars' $\\Rightarrow$ ca\n",
    "\n",
    "- **Stemming** chops off the ends of words and often includes the removal of derivational affixes. \n",
    "- **Lemmatization** uses vocabulary and morphological analysis of words. \n",
    "    - It aims at removing inflectional endings only. \n",
    "    - It returns the base or dictionary form of a word (lemma).\n",
    "\n",
    "We deploy nltk's [WordNetLemmatizer()](http://www.nltk.org/_modules/nltk/stem/wordnet.html#WordNetLemmatizer) using WordNet's built-in [morphy function](https://wordnet.princeton.edu/documentation/morphy7wn)."
   ]
  },
  {
   "cell_type": "code",
   "execution_count": 12,
   "metadata": {
    "slideshow": {
     "slide_type": "subslide"
    },
    "tags": []
   },
   "outputs": [
    {
     "name": "stdout",
     "output_type": "stream",
     "text": [
      "23142\n"
     ]
    },
    {
     "data": {
      "text/plain": [
       "0    in the event of increases and decreases in val...\n",
       "1    ACS Group since  2011, has de? ned a risk  con...\n",
       "2      rec  oGnition   Revenue is recognised to the...\n",
       "3    salary is paid   into an external fund. In add...\n",
       "4      them. The lawsuits, although numerous, repre...\n",
       "Name: x, dtype: object"
      ]
     },
     "execution_count": 12,
     "metadata": {},
     "output_type": "execute_result"
    }
   ],
   "source": [
    "print(len(df['x']))\n",
    "df['x'].head()"
   ]
  },
  {
   "cell_type": "code",
   "execution_count": 13,
   "metadata": {
    "collapsed": false,
    "jupyter": {
     "outputs_hidden": false
    },
    "pycharm": {
     "name": "#%%\n"
    },
    "slideshow": {
     "slide_type": "subslide"
    },
    "tags": []
   },
   "outputs": [],
   "source": [
    "lemm = WordNetLemmatizer()\n",
    "df['tokens'] = df['x'].apply(\n",
    "    lambda x: \" \".join([lemm.lemmatize(w) for w in nltk.word_tokenize(clean_text(x)) if len(w) > 2]))"
   ]
  },
  {
   "cell_type": "code",
   "execution_count": 14,
   "metadata": {
    "slideshow": {
     "slide_type": "subslide"
    },
    "tags": []
   },
   "outputs": [
    {
     "name": "stdout",
     "output_type": "stream",
     "text": [
      "23142\n"
     ]
    },
    {
     "data": {
      "text/plain": [
       "0    the event increase and decrease value the moni...\n",
       "1    ac group since ha ned risk control policy that...\n",
       "2    rec ognition revenue recognised the extent tha...\n",
       "3    salary paid into external fund addition turner...\n",
       "4    them the lawsuit although numerous represent s...\n",
       "Name: tokens, dtype: object"
      ]
     },
     "execution_count": 14,
     "metadata": {},
     "output_type": "execute_result"
    }
   ],
   "source": [
    "print(len(df['tokens']))\n",
    "df['tokens'].head()"
   ]
  },
  {
   "cell_type": "code",
   "execution_count": 15,
   "metadata": {
    "slideshow": {
     "slide_type": "skip"
    },
    "tags": []
   },
   "outputs": [],
   "source": [
    "df.columns = ['x_sentences', 'company', 'y1', 'y2', 'y3', 'x']\n",
    "df.to_csv(\"data/interim/tax_risk_tokenized.csv\", index=False)"
   ]
  },
  {
   "cell_type": "markdown",
   "metadata": {
    "slideshow": {
     "slide_type": "slide"
    },
    "tags": []
   },
   "source": [
    "## Train/Test Split\n",
    "- We split the whole dataset, such that companies are either in the train set or the test set. \n",
    "- No company must be in both sets. \n",
    "- We need to ensure that the observations from each group are not split across the training and test datasets. \n",
    "- All the observations from a given group need to be in the same bucket to ensure our trained model has never seen the group before when it comes to testing. \n",
    "- We deploy [GroupShuffleSplit()](https://scikit-learn.org/stable/modules/generated/sklearn.model_selection.GroupShuffleSplit.html#sklearn.model_selection.GroupShuffleSplit). <br>\n"
   ]
  },
  {
   "cell_type": "markdown",
   "metadata": {},
   "source": [
    "🤓: Make sure you understand why we do this. <br>\n",
    "🤓: Vary the size of the dataset used for training."
   ]
  },
  {
   "cell_type": "code",
   "execution_count": 16,
   "metadata": {
    "collapsed": false,
    "jupyter": {
     "outputs_hidden": false
    },
    "pycharm": {
     "name": "#%%\n"
    },
    "slideshow": {
     "slide_type": "subslide"
    },
    "tags": []
   },
   "outputs": [
    {
     "name": "stdout",
     "output_type": "stream",
     "text": [
      "TRAIN: [   19    20    21 ... 23139 23140 23141] TEST: [    0     1     2 ... 23038 23039 23040]\n"
     ]
    }
   ],
   "source": [
    "gss = GroupShuffleSplit(n_splits=1, train_size=.75, random_state=42)\n",
    "X = df.x_sentences\n",
    "y = df.y1\n",
    "for train_idx, test_idx in gss.split(X, y, df.company):\n",
    "    print(\"TRAIN:\", train_idx, \"TEST:\", test_idx)"
   ]
  },
  {
   "cell_type": "code",
   "execution_count": 17,
   "metadata": {
    "collapsed": false,
    "jupyter": {
     "outputs_hidden": false
    },
    "pycharm": {
     "name": "#%%\n"
    },
    "slideshow": {
     "slide_type": "subslide"
    },
    "tags": []
   },
   "outputs": [
    {
     "data": {
      "text/html": [
       "<div>\n",
       "<style scoped>\n",
       "    .dataframe tbody tr th:only-of-type {\n",
       "        vertical-align: middle;\n",
       "    }\n",
       "\n",
       "    .dataframe tbody tr th {\n",
       "        vertical-align: top;\n",
       "    }\n",
       "\n",
       "    .dataframe thead th {\n",
       "        text-align: right;\n",
       "    }\n",
       "</style>\n",
       "<table border=\"1\" class=\"dataframe\">\n",
       "  <thead>\n",
       "    <tr style=\"text-align: right;\">\n",
       "      <th></th>\n",
       "      <th>x_sentences</th>\n",
       "      <th>company</th>\n",
       "      <th>y1</th>\n",
       "      <th>y2</th>\n",
       "      <th>y3</th>\n",
       "      <th>x</th>\n",
       "    </tr>\n",
       "  </thead>\n",
       "  <tbody>\n",
       "    <tr>\n",
       "      <th>0</th>\n",
       "      <td>94  adopted  on   November 30, 2005. The Commi...</td>\n",
       "      <td>actelion</td>\n",
       "      <td>0</td>\n",
       "      <td>0</td>\n",
       "      <td>0</td>\n",
       "      <td>adopted november the committee ha the followin...</td>\n",
       "    </tr>\n",
       "    <tr>\n",
       "      <th>1</th>\n",
       "      <td>Novem\\xAD  ber 30, 2005. The Committee has the...</td>\n",
       "      <td>actelion</td>\n",
       "      <td>0</td>\n",
       "      <td>0</td>\n",
       "      <td>0</td>\n",
       "      <td>novem xad ber the committee ha the following t...</td>\n",
       "    </tr>\n",
       "    <tr>\n",
       "      <th>2</th>\n",
       "      <td>\\x94 adopted on Novem-  ber 30, 2005. The Comm...</td>\n",
       "      <td>actelion</td>\n",
       "      <td>0</td>\n",
       "      <td>0</td>\n",
       "      <td>0</td>\n",
       "      <td>adopted novem ber the committee ha the followi...</td>\n",
       "    </tr>\n",
       "    <tr>\n",
       "      <th>3</th>\n",
       "      <td>Committee\\x94 adopted on  30 November 2005. Th...</td>\n",
       "      <td>actelion</td>\n",
       "      <td>1</td>\n",
       "      <td>0</td>\n",
       "      <td>0</td>\n",
       "      <td>committee adopted november the committee ha th...</td>\n",
       "    </tr>\n",
       "    <tr>\n",
       "      <th>4</th>\n",
       "      <td>with  Article 663b pt 12 SCO the Board of Dire...</td>\n",
       "      <td>actelion</td>\n",
       "      <td>0</td>\n",
       "      <td>0</td>\n",
       "      <td>0</td>\n",
       "      <td>with article sco the board director regularly ...</td>\n",
       "    </tr>\n",
       "  </tbody>\n",
       "</table>\n",
       "</div>"
      ],
      "text/plain": [
       "                                         x_sentences    company  y1  y2  y3  \\\n",
       "0  94  adopted  on   November 30, 2005. The Commi...   actelion   0   0   0   \n",
       "1  Novem\\xAD  ber 30, 2005. The Committee has the...   actelion   0   0   0   \n",
       "2  \\x94 adopted on Novem-  ber 30, 2005. The Comm...   actelion   0   0   0   \n",
       "3  Committee\\x94 adopted on  30 November 2005. Th...   actelion   1   0   0   \n",
       "4  with  Article 663b pt 12 SCO the Board of Dire...   actelion   0   0   0   \n",
       "\n",
       "                                                   x  \n",
       "0  adopted november the committee ha the followin...  \n",
       "1  novem xad ber the committee ha the following t...  \n",
       "2  adopted novem ber the committee ha the followi...  \n",
       "3  committee adopted november the committee ha th...  \n",
       "4  with article sco the board director regularly ...  "
      ]
     },
     "execution_count": 17,
     "metadata": {},
     "output_type": "execute_result"
    }
   ],
   "source": [
    "train_df = df.loc[train_idx]\n",
    "train_df.reset_index(inplace=True, drop=True)\n",
    "\n",
    "test_df = df.loc[test_idx]\n",
    "test_df.reset_index(inplace=True, drop=True)\n",
    "\n",
    "train_df.head()"
   ]
  },
  {
   "cell_type": "markdown",
   "metadata": {
    "slideshow": {
     "slide_type": "skip"
    },
    "tags": []
   },
   "source": [
    "## Save Datasets"
   ]
  },
  {
   "cell_type": "code",
   "execution_count": 18,
   "metadata": {
    "collapsed": false,
    "jupyter": {
     "outputs_hidden": false
    },
    "pycharm": {
     "name": "#%%\n"
    },
    "slideshow": {
     "slide_type": "skip"
    },
    "tags": []
   },
   "outputs": [],
   "source": [
    "train_df.to_csv('data/interim/tax_risk_train.csv', index=False)\n",
    "test_df.to_csv('data/interim/tax_risk_test.csv', index=False)"
   ]
  },
  {
   "cell_type": "markdown",
   "metadata": {
    "slideshow": {
     "slide_type": "slide"
    },
    "tags": []
   },
   "source": [
    "# Classification\n",
    "## Baseline Model\n",
    "- Vectorizers \n",
    "    - bag-of-words\n",
    "    - tf-idf\n",
    "- Classifiers \n",
    "    - Multinomial Naive Bayes\n",
    "    - Passive Aggressive Classifiers\n",
    "    - Support Vector Machines"
   ]
  },
  {
   "cell_type": "code",
   "execution_count": 19,
   "metadata": {
    "collapsed": false,
    "jupyter": {
     "outputs_hidden": false
    },
    "pycharm": {
     "name": "#%%\n"
    },
    "slideshow": {
     "slide_type": "skip"
    },
    "tags": []
   },
   "outputs": [],
   "source": [
    "train = pd.read_csv('data/interim/tax_risk_train.csv')\n",
    "test = pd.read_csv('data/interim/tax_risk_test.csv')"
   ]
  },
  {
   "cell_type": "markdown",
   "metadata": {
    "slideshow": {
     "slide_type": "slide"
    },
    "tags": []
   },
   "source": [
    "### Vectorizer\n",
    "[Source](https://scikit-learn.org/stable/modules/feature_extraction.html#text-feature-extraction) <br>\n",
    "- Text cannot be fed directly to the algorithms.\n",
    "- Classifiers expect numerical feature vectors with a fixed size (rather than the raw text with variable length).\n",
    "- Vectorization is the process of turning a collection of text documents into numerical feature vectors."
   ]
  },
  {
   "cell_type": "markdown",
   "metadata": {
    "slideshow": {
     "slide_type": "subslide"
    },
    "tags": []
   },
   "source": [
    "#### Bag of Words\n",
    "- Tokenization+counting and normalization is called the bag of words representation. \n",
    "- Documents are described by word occurrences.\n",
    "- The relative position information of the words in the document is ignored."
   ]
  },
  {
   "cell_type": "code",
   "execution_count": 20,
   "metadata": {
    "slideshow": {
     "slide_type": "skip"
    },
    "tags": []
   },
   "outputs": [],
   "source": [
    "x_train = train.x\n",
    "x_test = test.x"
   ]
  },
  {
   "cell_type": "code",
   "execution_count": 21,
   "metadata": {
    "slideshow": {
     "slide_type": "subslide"
    },
    "tags": []
   },
   "outputs": [],
   "source": [
    "count_vectorizer = CountVectorizer(stop_words='english')  #removing stopwords\n",
    "count_train = count_vectorizer.fit_transform(x_train)\n",
    "count_test = count_vectorizer.transform(x_test)"
   ]
  },
  {
   "cell_type": "markdown",
   "metadata": {
    "slideshow": {
     "slide_type": "subslide"
    },
    "tags": []
   },
   "source": [
    "#### tf-idf\n",
    "- In a large text corpus, some words are very present (e.g. \"the\", \"a\", \"is\" in English).\n",
    "- Those words carry little meaningful information.\n",
    "- Those words shadow the frequencies of rarer yet more interesting terms.\n",
    "- In order to re-weight the count features, we use the tf–idf transformation.\n",
    "\n",
    "$$ \\text{tf-idf}(t,d) = \\text{tf}(t,d) \\cdot \\text{idf}(t)$$\n",
    "$$ \\text{idf}(t) = log \\frac{1+n}{1+\\text{df}(n)} + 1 $$\n",
    "\n",
    "- term frequency (tf): the number of times a term occurs in a given document\n",
    "- $n$: the total number of documents\n",
    "- $df(t)$: the number of documents that contain term $t$\n",
    "\n",
    "- The resulting tf-idf vectors are then normalized by the Euclidean norm:\n",
    "\n",
    "$$ v_{norm}=\\frac{v}{||v||_2}=\\frac{v}{\\sqrt{v_1^2+v_n^2+...+v_n^2}} $$"
   ]
  },
  {
   "cell_type": "code",
   "execution_count": 22,
   "metadata": {
    "slideshow": {
     "slide_type": "subslide"
    },
    "tags": []
   },
   "outputs": [],
   "source": [
    "tfidf_vectorizer = TfidfVectorizer(stop_words='english', max_df=0.7)\n",
    "tfidf_train = tfidf_vectorizer.fit_transform(x_train)\n",
    "tfidf_test = tfidf_vectorizer.transform(x_test)"
   ]
  },
  {
   "cell_type": "markdown",
   "metadata": {},
   "source": [
    "### Classifier"
   ]
  },
  {
   "cell_type": "markdown",
   "metadata": {},
   "source": [
    "#### Naive Bayes\n",
    "\n",
    "- The \"naive\" assumption: The conditional independence between every pair of features given the value of the class variable. \n",
    "- Bayes' theorem: given class variable \n",
    "$y$ and dependent feature vector $x_1$,...,$x_n$:\n",
    "\n",
    "$$\n",
    "P(y|x_1,...,x_n)=\\frac{P(y)P(x_1,...,x_n|y)}{P(x_1,...,x_n)}\n",
    "$$\n",
    "\n",
    "\n",
    "- The decoupling of the class conditional feature distributions means that each distribution can be independently estimated as a one dimensional distribution.\n",
    "- Advantages\n",
    "    - NB requires a small amount of training data.\n",
    "    - NB can be extremely fast.\n",
    "- Disadvantage\n",
    "    - Although NB is known as a decent classifier, it is known to be a bad estimator.\n",
    "    - The probability outputs from `predict_proba` are not to be taken too seriously (more on that when we discuss probability calibration)."
   ]
  },
  {
   "cell_type": "markdown",
   "metadata": {
    "slideshow": {
     "slide_type": "slide"
    },
    "tags": []
   },
   "source": [
    "#### Multinomial Naive Bayes\n",
    "[scikit-learn](https://scikit-learn.org/stable/modules/naive_bayes.html#multinomial-naive-bayes)\n",
    "\n",
    "- [MultinomialNB](https://scikit-learn.org/stable/modules/generated/sklearn.naive_bayes.MultinomialNB.html) implements the naive Bayes algorithm for multinomially distributed data.\n",
    "- The distribution is parametrized by vectors $\\theta_{y}=(\\theta_{y1},\\theta_{y,2},...,\\theta_{yn})$.\n",
    "- $n$ is the number of features (the size of the vocabulary). \n",
    "- $\\theta_{yi}$ is the probability $P(x_i|y)$ of feature $i$ appearing in a sample belonging to class $y$.\n",
    "\n",
    "$$\n",
    "\\hat{\\theta}_{yi}=\\frac{N_{yi}+\\alpha}{N_{y}+\\alpha n}\n",
    "$$\n",
    "\n",
    "- The smoothing priors $\\alpha \\geqq 0$ account for features not present in the learning samples and prevents zero probabilities.\n",
    "\n",
    "🤓: Change the smoothing parameter. Do you encounter zero probabilities?"
   ]
  },
  {
   "cell_type": "markdown",
   "metadata": {
    "slideshow": {
     "slide_type": "fragment"
    },
    "tags": []
   },
   "source": [
    "```python\n",
    "clf = MultinomialNB()\n",
    "clf.fit(tfidf_train, y_train)\n",
    "pred = clf.predict(tfidf_test)\n",
    "```"
   ]
  },
  {
   "cell_type": "markdown",
   "metadata": {
    "slideshow": {
     "slide_type": "slide"
    },
    "tags": []
   },
   "source": [
    "#### Passive Aggressive Algorithms\n",
    "[scikit-learn](https://scikit-learn.org/stable/modules/linear_model.html#passive-aggressive), [Victor Lavrenko](https://www.youtube.com/watch?v=TJU8NfDdqNQ)\n",
    "\n",
    "- \n",
    "[PassiveAggressiveClassifier](https://scikit-learn.org/stable/modules/generated/sklearn.linear_model.PassiveAggressiveClassifier.html#sklearn.linear_model.PassiveAggressiveClassifier), intuition: \n",
    "    - Passive: if correct classification, keep the model.\n",
    "    - Aggressive: if incorrect classification, update to adjust to this misclassified example.\n",
    "- Adequate for large-scale learning. \n",
    "- They do not require a learning rate. \n",
    "- They include a regularization parameter (step size) $C$.\n",
    "\n",
    "\n",
    "🤓: Change the loss function. Which one (apart from \"hinge\") is suitable for a classification task?"
   ]
  },
  {
   "cell_type": "markdown",
   "metadata": {
    "slideshow": {
     "slide_type": "fragment"
    },
    "tags": []
   },
   "source": [
    "```python\n",
    "linear_clf = PassiveAggressiveClassifier(max_iter=50, loss=\"hinge\",C=1)\n",
    "linear_clf.fit(tfidf_train, y_train)\n",
    "pred = linear_clf.predict(tfidf_test)\n",
    "```"
   ]
  },
  {
   "cell_type": "markdown",
   "metadata": {
    "slideshow": {
     "slide_type": "slide"
    },
    "tags": []
   },
   "source": [
    "#### Support vector machines \n",
    "[scikit-learn](https://scikit-learn.org/stable/modules/svm.html), [Lilly Chen](https://towardsdatascience.com/support-vector-machine-simply-explained-fee28eba5496) <br>\n",
    "- SVMs find the decision boundary to separate different classes and maximize the margin.\n",
    "- The function can be used with different kernels. \n",
    "- A kernel utilizes existing features, applies transformation, and creates new features. \n",
    "- Those new features are the key for SVM to find the nonlinear decision boundary.\n",
    "\n",
    "🤓: Change the kernel."
   ]
  },
  {
   "cell_type": "markdown",
   "metadata": {
    "slideshow": {
     "slide_type": "fragment"
    },
    "tags": []
   },
   "source": [
    "```python\n",
    "linear_clf = svm.SVC()\n",
    "linear_clf.fit(tfidf_train, y_train)\n",
    "pred = linear_clf.predict(tfidf_test)\n",
    "```"
   ]
  },
  {
   "cell_type": "code",
   "execution_count": 24,
   "metadata": {
    "slideshow": {
     "slide_type": "skip"
    },
    "tags": []
   },
   "outputs": [
    {
     "data": {
      "image/png": "[encoded data removed]",
      "text/plain": [
       "<Figure size 720x360 with 4 Axes>"
      ]
     },
     "metadata": {},
     "output_type": "display_data"
    }
   ],
   "source": [
    "from sklearn import svm, datasets\n",
    "\n",
    "from utils.visualization import visualize_svms\n",
    "\n",
    "# import some data to play with\n",
    "iris = datasets.load_iris()\n",
    "# Take the first two features. We could avoid this by using a two-dim dataset\n",
    "X = iris.data[:, :2]\n",
    "y = iris.target\n",
    "\n",
    "# we create an instance of SVM and fit out data. We do not scale our\n",
    "# data since we want to plot the support vectors\n",
    "C = 1.0  # SVM regularization parameter\n",
    "models = (svm.SVC(kernel='linear', C=C),\n",
    "          svm.LinearSVC(C=C, max_iter=10000),\n",
    "          svm.SVC(kernel='rbf', gamma=0.7, C=C),\n",
    "          svm.SVC(kernel='poly', degree=3, gamma='auto', C=C))\n",
    "models = (clf.fit(X, y) for clf in models)\n",
    "\n",
    "# title for the plots\n",
    "titles = ('SVC with linear kernel',\n",
    "          'LinearSVC (linear kernel)',\n",
    "          'SVC with RBF kernel',\n",
    "          'SVC with polynomial (degree 3) kernel')\n",
    "\n",
    "visualize_svms(X, y, models, titles, subplot_shape=(2, 2))"
   ]
  },
  {
   "cell_type": "code",
   "execution_count": 25,
   "metadata": {
    "collapsed": false,
    "jupyter": {
     "outputs_hidden": false
    },
    "pycharm": {
     "name": "#%%\n"
    },
    "slideshow": {
     "slide_type": "skip"
    },
    "tags": []
   },
   "outputs": [],
   "source": [
    "results = dict()\n",
    "most_predictive_features = dict()\n",
    "tfidf_feature_names = tfidf_vectorizer.get_feature_names()\n",
    "count_feature_names = count_vectorizer.get_feature_names()\n",
    "\n",
    "for y in ['y1', 'y2', 'y3']:\n",
    "    def fit_and_evaluate_model(name, clf, train_data, test_data, feature_names):\n",
    "        clf.fit(train_data, y_train)\n",
    "        pred = clf.predict(test_data)\n",
    "        accuracy = metrics.accuracy_score(y_test, pred, normalize=True, sample_weight=None)\n",
    "        precision, recall, f1, _ = precision_recall_fscore_support(y_test, pred, average=\"weighted\")\n",
    "        results[y][name] = {\"accuracy\": accuracy, \"precision\": precision, \"recall\": recall, \"f-score\": f1}\n",
    "        coefs = clf.coef_[0] if isinstance(clf.coef_, np.ndarray) else clf.coef_.A[\n",
    "            0]  # SVM stores coefs as sparse matrix\n",
    "        most_predictive_features[y][name] = sorted(zip(coefs, feature_names), reverse=True)[\n",
    "                                            :20]  #most predictive for tax risk = 1\n",
    "\n",
    "\n",
    "    results[y] = dict()\n",
    "    most_predictive_features[y] = dict()\n",
    "    y_train = train[y]\n",
    "    y_test = test[y]\n",
    "\n",
    "    #Comparing models:\n",
    "    #Bayes  \n",
    "    clf = MultinomialNB()\n",
    "    fit_and_evaluate_model('MNB_tfidf', clf, tfidf_train, tfidf_test, tfidf_feature_names)\n",
    "    fit_and_evaluate_model('MNB_count', clf, count_train, count_test, count_feature_names)\n",
    "\n",
    "    #PassiveAggressive\n",
    "    clf = PassiveAggressiveClassifier(max_iter=50, loss=\"hinge\", C=1)\n",
    "    fit_and_evaluate_model('PA_tfidf', clf, tfidf_train, tfidf_test, tfidf_feature_names)\n",
    "    fit_and_evaluate_model('PA_count', clf, count_train, count_test, count_feature_names)\n",
    "\n",
    "    #Support Vector Machine\n",
    "    clf = svm.SVC(kernel='linear', max_iter=50)\n",
    "    fit_and_evaluate_model('SVM_tfidf', clf, tfidf_train, tfidf_test, tfidf_feature_names)\n",
    "    fit_and_evaluate_model('SVM_count', clf, count_train, count_test, count_feature_names)"
   ]
  },
  {
   "cell_type": "markdown",
   "metadata": {
    "slideshow": {
     "slide_type": "slide"
    },
    "tags": []
   },
   "source": [
    "### Plot performance measures\n",
    "- In the following, we assess the performance of the classifier. \n",
    "- We calculate the following metrics: Accuracy, Precision, Recall, and F1-score.\n",
    "- We will explore those metrics in more detail in the next session. \n",
    "- For now, it is sufficient to know how they are called and that they exist.\n",
    "\n",
    "🤓: Which classifier do you think performs worst?"
   ]
  },
  {
   "cell_type": "code",
   "execution_count": 26,
   "metadata": {
    "slideshow": {
     "slide_type": "subslide"
    },
    "tags": []
   },
   "outputs": [
    {
     "data": {
      "image/png": "[encoded data removed]",
      "text/plain": [
       "<Figure size 1080x720 with 3 Axes>"
      ]
     },
     "metadata": {
      "needs_background": "light"
     },
     "output_type": "display_data"
    }
   ],
   "source": [
    "plot_args = {\"rot\": 0, \"figsize\": (15, 10), \"ylim\": (0.7, 1)}\n",
    "fig, axes = plt.subplots(nrows=3, ncols=1)\n",
    "pd.DataFrame(results[\"y1\"]).T.plot.bar(ax=axes[0], title=\"y1\", **plot_args)\n",
    "pd.DataFrame(results[\"y2\"]).T.plot.bar(ax=axes[1], title=\"y2\", legend=False, **plot_args)\n",
    "pd.DataFrame(results[\"y3\"]).T.plot.bar(ax=axes[2], title=\"y3\", legend=False, **plot_args);"
   ]
  },
  {
   "cell_type": "markdown",
   "metadata": {
    "slideshow": {
     "slide_type": "slide"
    },
    "tags": []
   },
   "source": [
    "### Introspect features\n",
    "\n",
    "- One can access the feature importance of many (mostly linear) classifiers in sk-learn. We saved the most predictive features (for class=1) when fitting the classifiers and can now access them.\n",
    "\n",
    "We can look at the 20 most predictive features for our classifiers. (Please keep in mind that those are less meaningful for weak models)"
   ]
  },
  {
   "cell_type": "code",
   "execution_count": 27,
   "metadata": {},
   "outputs": [
    {
     "data": {
      "text/html": [
       "<div>\n",
       "<style scoped>\n",
       "    .dataframe tbody tr th:only-of-type {\n",
       "        vertical-align: middle;\n",
       "    }\n",
       "\n",
       "    .dataframe tbody tr th {\n",
       "        vertical-align: top;\n",
       "    }\n",
       "\n",
       "    .dataframe thead tr th {\n",
       "        text-align: left;\n",
       "    }\n",
       "</style>\n",
       "<table border=\"1\" class=\"dataframe\">\n",
       "  <thead>\n",
       "    <tr>\n",
       "      <th></th>\n",
       "      <th colspan=\"3\" halign=\"left\">MNB_count</th>\n",
       "      <th colspan=\"3\" halign=\"left\">MNB_tfidf</th>\n",
       "      <th colspan=\"3\" halign=\"left\">PA_count</th>\n",
       "      <th colspan=\"3\" halign=\"left\">PA_tfidf</th>\n",
       "      <th colspan=\"3\" halign=\"left\">SVM_count</th>\n",
       "      <th colspan=\"3\" halign=\"left\">SVM_tfidf</th>\n",
       "    </tr>\n",
       "    <tr>\n",
       "      <th></th>\n",
       "      <th>y1</th>\n",
       "      <th>y2</th>\n",
       "      <th>y3</th>\n",
       "      <th>y1</th>\n",
       "      <th>y2</th>\n",
       "      <th>y3</th>\n",
       "      <th>y1</th>\n",
       "      <th>y2</th>\n",
       "      <th>y3</th>\n",
       "      <th>y1</th>\n",
       "      <th>y2</th>\n",
       "      <th>y3</th>\n",
       "      <th>y1</th>\n",
       "      <th>y2</th>\n",
       "      <th>y3</th>\n",
       "      <th>y1</th>\n",
       "      <th>y2</th>\n",
       "      <th>y3</th>\n",
       "    </tr>\n",
       "  </thead>\n",
       "  <tbody>\n",
       "    <tr>\n",
       "      <th>0</th>\n",
       "      <td>risk</td>\n",
       "      <td>tax</td>\n",
       "      <td>tax</td>\n",
       "      <td>group</td>\n",
       "      <td>group</td>\n",
       "      <td>group</td>\n",
       "      <td>authorized</td>\n",
       "      <td>supplemented</td>\n",
       "      <td>restitution</td>\n",
       "      <td>introduc</td>\n",
       "      <td>uipment</td>\n",
       "      <td>anking</td>\n",
       "      <td>repor</td>\n",
       "      <td>repor</td>\n",
       "      <td>officer</td>\n",
       "      <td>realizable</td>\n",
       "      <td>sell</td>\n",
       "      <td>gilt</td>\n",
       "    </tr>\n",
       "    <tr>\n",
       "      <th>1</th>\n",
       "      <td>tax</td>\n",
       "      <td>risk</td>\n",
       "      <td>risk</td>\n",
       "      <td>financial</td>\n",
       "      <td>management</td>\n",
       "      <td>management</td>\n",
       "      <td>contra</td>\n",
       "      <td>elster</td>\n",
       "      <td>rubis</td>\n",
       "      <td>authorized</td>\n",
       "      <td>curren</td>\n",
       "      <td>opposite</td>\n",
       "      <td>storage</td>\n",
       "      <td>mai</td>\n",
       "      <td>chief</td>\n",
       "      <td>introduc</td>\n",
       "      <td>vent</td>\n",
       "      <td>deferr</td>\n",
       "    </tr>\n",
       "    <tr>\n",
       "      <th>2</th>\n",
       "      <td>group</td>\n",
       "      <td>group</td>\n",
       "      <td>group</td>\n",
       "      <td>management</td>\n",
       "      <td>company</td>\n",
       "      <td>control</td>\n",
       "      <td>regarded</td>\n",
       "      <td>analysed</td>\n",
       "      <td>opposite</td>\n",
       "      <td>column</td>\n",
       "      <td>curred</td>\n",
       "      <td>reconcilliation</td>\n",
       "      <td>sa</td>\n",
       "      <td>owing</td>\n",
       "      <td>financial</td>\n",
       "      <td>raise</td>\n",
       "      <td>carefully</td>\n",
       "      <td>oversight</td>\n",
       "    </tr>\n",
       "    <tr>\n",
       "      <th>3</th>\n",
       "      <td>financial</td>\n",
       "      <td>financial</td>\n",
       "      <td>management</td>\n",
       "      <td>business</td>\n",
       "      <td>financial</td>\n",
       "      <td>department</td>\n",
       "      <td>column</td>\n",
       "      <td>curred</td>\n",
       "      <td>mandatorily</td>\n",
       "      <td>onnel</td>\n",
       "      <td>nking</td>\n",
       "      <td>xlooking</td>\n",
       "      <td>parent</td>\n",
       "      <td>capacity</td>\n",
       "      <td>ensures</td>\n",
       "      <td>calculation</td>\n",
       "      <td>appropr</td>\n",
       "      <td>private</td>\n",
       "    </tr>\n",
       "    <tr>\n",
       "      <th>4</th>\n",
       "      <td>management</td>\n",
       "      <td>management</td>\n",
       "      <td>control</td>\n",
       "      <td>legal</td>\n",
       "      <td>business</td>\n",
       "      <td>committee</td>\n",
       "      <td>postemployment</td>\n",
       "      <td>parental</td>\n",
       "      <td>xastatements</td>\n",
       "      <td>successively</td>\n",
       "      <td>claimed</td>\n",
       "      <td>ues</td>\n",
       "      <td>activity</td>\n",
       "      <td>case</td>\n",
       "      <td>field</td>\n",
       "      <td>inside</td>\n",
       "      <td>iate</td>\n",
       "      <td>integrity</td>\n",
       "    </tr>\n",
       "    <tr>\n",
       "      <th>5</th>\n",
       "      <td>business</td>\n",
       "      <td>company</td>\n",
       "      <td>financial</td>\n",
       "      <td>control</td>\n",
       "      <td>law</td>\n",
       "      <td>policy</td>\n",
       "      <td>ected</td>\n",
       "      <td>importation</td>\n",
       "      <td>redundancy</td>\n",
       "      <td>hort</td>\n",
       "      <td>hourly</td>\n",
       "      <td>dependent</td>\n",
       "      <td>relating</td>\n",
       "      <td>identified</td>\n",
       "      <td>identification</td>\n",
       "      <td>proj</td>\n",
       "      <td>pbt</td>\n",
       "      <td>brazil</td>\n",
       "    </tr>\n",
       "    <tr>\n",
       "      <th>6</th>\n",
       "      <td>change</td>\n",
       "      <td>change</td>\n",
       "      <td>policy</td>\n",
       "      <td>company</td>\n",
       "      <td>authority</td>\n",
       "      <td>compliance</td>\n",
       "      <td>secure</td>\n",
       "      <td>carefully</td>\n",
       "      <td>minimises</td>\n",
       "      <td>regarded</td>\n",
       "      <td>reverse</td>\n",
       "      <td>appetite</td>\n",
       "      <td>income</td>\n",
       "      <td>segment</td>\n",
       "      <td>applied</td>\n",
       "      <td>vent</td>\n",
       "      <td>mandatorily</td>\n",
       "      <td>rom</td>\n",
       "    </tr>\n",
       "    <tr>\n",
       "      <th>7</th>\n",
       "      <td>company</td>\n",
       "      <td>business</td>\n",
       "      <td>committee</td>\n",
       "      <td>change</td>\n",
       "      <td>change</td>\n",
       "      <td>internal</td>\n",
       "      <td>leighton</td>\n",
       "      <td>compensa</td>\n",
       "      <td>rom</td>\n",
       "      <td>raise</td>\n",
       "      <td>drop</td>\n",
       "      <td>rom</td>\n",
       "      <td>xchanges</td>\n",
       "      <td>increase</td>\n",
       "      <td>correctly</td>\n",
       "      <td>ppe</td>\n",
       "      <td>related</td>\n",
       "      <td>model</td>\n",
       "    </tr>\n",
       "    <tr>\n",
       "      <th>8</th>\n",
       "      <td>legal</td>\n",
       "      <td>provision</td>\n",
       "      <td>business</td>\n",
       "      <td>law</td>\n",
       "      <td>control</td>\n",
       "      <td>audit</td>\n",
       "      <td>earning</td>\n",
       "      <td>producer</td>\n",
       "      <td>supplemented</td>\n",
       "      <td>servicing</td>\n",
       "      <td>vertible</td>\n",
       "      <td>firstgroup</td>\n",
       "      <td>criterion</td>\n",
       "      <td>hedging</td>\n",
       "      <td>reputation</td>\n",
       "      <td>speci</td>\n",
       "      <td>topic</td>\n",
       "      <td>garm</td>\n",
       "    </tr>\n",
       "    <tr>\n",
       "      <th>9</th>\n",
       "      <td>rate</td>\n",
       "      <td>income</td>\n",
       "      <td>audit</td>\n",
       "      <td>regulation</td>\n",
       "      <td>audit</td>\n",
       "      <td>authority</td>\n",
       "      <td>elster</td>\n",
       "      <td>reverse</td>\n",
       "      <td>regularly</td>\n",
       "      <td>econciliation</td>\n",
       "      <td>strengthening</td>\n",
       "      <td>mandatorily</td>\n",
       "      <td>year</td>\n",
       "      <td>determined</td>\n",
       "      <td>private</td>\n",
       "      <td>terminal</td>\n",
       "      <td>loan</td>\n",
       "      <td>position</td>\n",
       "    </tr>\n",
       "    <tr>\n",
       "      <th>10</th>\n",
       "      <td>control</td>\n",
       "      <td>rate</td>\n",
       "      <td>compliance</td>\n",
       "      <td>committee</td>\n",
       "      <td>policy</td>\n",
       "      <td>business</td>\n",
       "      <td>xasa</td>\n",
       "      <td>claimed</td>\n",
       "      <td>pandemic</td>\n",
       "      <td>replenishment</td>\n",
       "      <td>xgeneral</td>\n",
       "      <td>xaevent</td>\n",
       "      <td>servizi</td>\n",
       "      <td>internal</td>\n",
       "      <td>performed</td>\n",
       "      <td>wbcsd</td>\n",
       "      <td>portfolio</td>\n",
       "      <td>vision</td>\n",
       "    </tr>\n",
       "    <tr>\n",
       "      <th>11</th>\n",
       "      <td>provision</td>\n",
       "      <td>liability</td>\n",
       "      <td>provision</td>\n",
       "      <td>compliance</td>\n",
       "      <td>committee</td>\n",
       "      <td>financial</td>\n",
       "      <td>iteration</td>\n",
       "      <td>iti</td>\n",
       "      <td>gilt</td>\n",
       "      <td>iteration</td>\n",
       "      <td>supplemented</td>\n",
       "      <td>restitution</td>\n",
       "      <td>azienda</td>\n",
       "      <td>institution</td>\n",
       "      <td>evaluation</td>\n",
       "      <td>care</td>\n",
       "      <td>att</td>\n",
       "      <td>oecd</td>\n",
       "    </tr>\n",
       "    <tr>\n",
       "      <th>12</th>\n",
       "      <td>asset</td>\n",
       "      <td>law</td>\n",
       "      <td>internal</td>\n",
       "      <td>rate</td>\n",
       "      <td>income</td>\n",
       "      <td>strategy</td>\n",
       "      <td>adop</td>\n",
       "      <td>fap</td>\n",
       "      <td>reconcilliation</td>\n",
       "      <td>cumulated</td>\n",
       "      <td>erage</td>\n",
       "      <td>autho</td>\n",
       "      <td>basis</td>\n",
       "      <td>resulting</td>\n",
       "      <td>considers</td>\n",
       "      <td>iteration</td>\n",
       "      <td>xataxation</td>\n",
       "      <td>reviewgovernance</td>\n",
       "    </tr>\n",
       "    <tr>\n",
       "      <th>13</th>\n",
       "      <td>liability</td>\n",
       "      <td>control</td>\n",
       "      <td>department</td>\n",
       "      <td>regulatory</td>\n",
       "      <td>compliance</td>\n",
       "      <td>legal</td>\n",
       "      <td>critically</td>\n",
       "      <td>hourly</td>\n",
       "      <td>engages</td>\n",
       "      <td>supplemented</td>\n",
       "      <td>complianceen</td>\n",
       "      <td>gilt</td>\n",
       "      <td>institution</td>\n",
       "      <td>new</td>\n",
       "      <td>specifically</td>\n",
       "      <td>reserve</td>\n",
       "      <td>discussed</td>\n",
       "      <td>benefi</td>\n",
       "    </tr>\n",
       "    <tr>\n",
       "      <th>14</th>\n",
       "      <td>income</td>\n",
       "      <td>authority</td>\n",
       "      <td>company</td>\n",
       "      <td>audit</td>\n",
       "      <td>provision</td>\n",
       "      <td>provision</td>\n",
       "      <td>accountable</td>\n",
       "      <td>strengthening</td>\n",
       "      <td>djusted</td>\n",
       "      <td>prescribed</td>\n",
       "      <td>iti</td>\n",
       "      <td>xastatements</td>\n",
       "      <td>management</td>\n",
       "      <td>intellectual</td>\n",
       "      <td>process</td>\n",
       "      <td>ected</td>\n",
       "      <td>covered</td>\n",
       "      <td>demonstrate</td>\n",
       "    </tr>\n",
       "    <tr>\n",
       "      <th>15</th>\n",
       "      <td>law</td>\n",
       "      <td>audit</td>\n",
       "      <td>rate</td>\n",
       "      <td>policy</td>\n",
       "      <td>liability</td>\n",
       "      <td>company</td>\n",
       "      <td>ency</td>\n",
       "      <td>virtually</td>\n",
       "      <td>particularly</td>\n",
       "      <td>dget</td>\n",
       "      <td>parental</td>\n",
       "      <td>anomaly</td>\n",
       "      <td>asset</td>\n",
       "      <td>disclosure</td>\n",
       "      <td>loan</td>\n",
       "      <td>world</td>\n",
       "      <td>activity</td>\n",
       "      <td>invoked</td>\n",
       "    </tr>\n",
       "    <tr>\n",
       "      <th>16</th>\n",
       "      <td>related</td>\n",
       "      <td>asset</td>\n",
       "      <td>change</td>\n",
       "      <td>country</td>\n",
       "      <td>legal</td>\n",
       "      <td>liability</td>\n",
       "      <td>prescribed</td>\n",
       "      <td>complexity</td>\n",
       "      <td>competitive</td>\n",
       "      <td>leighton</td>\n",
       "      <td>challenged</td>\n",
       "      <td>supplemented</td>\n",
       "      <td>mainly</td>\n",
       "      <td>gbl</td>\n",
       "      <td>profile</td>\n",
       "      <td>necessitates</td>\n",
       "      <td>uipment</td>\n",
       "      <td>thing</td>\n",
       "    </tr>\n",
       "    <tr>\n",
       "      <th>17</th>\n",
       "      <td>audit</td>\n",
       "      <td>legal</td>\n",
       "      <td>authority</td>\n",
       "      <td>liability</td>\n",
       "      <td>regulation</td>\n",
       "      <td>board</td>\n",
       "      <td>supplemented</td>\n",
       "      <td>complianceen</td>\n",
       "      <td>gror</td>\n",
       "      <td>contra</td>\n",
       "      <td>curreny</td>\n",
       "      <td>principle</td>\n",
       "      <td>loss</td>\n",
       "      <td>goodwill</td>\n",
       "      <td>barclays</td>\n",
       "      <td>tion</td>\n",
       "      <td>ct</td>\n",
       "      <td>underlying</td>\n",
       "    </tr>\n",
       "    <tr>\n",
       "      <th>18</th>\n",
       "      <td>market</td>\n",
       "      <td>policy</td>\n",
       "      <td>liability</td>\n",
       "      <td>including</td>\n",
       "      <td>result</td>\n",
       "      <td>change</td>\n",
       "      <td>econciliation</td>\n",
       "      <td>htm</td>\n",
       "      <td>complexity</td>\n",
       "      <td>xasa</td>\n",
       "      <td>xataxation</td>\n",
       "      <td>complexity</td>\n",
       "      <td>deferral</td>\n",
       "      <td>consistent</td>\n",
       "      <td>tax</td>\n",
       "      <td>strategy</td>\n",
       "      <td>nking</td>\n",
       "      <td>significant</td>\n",
       "    </tr>\n",
       "    <tr>\n",
       "      <th>19</th>\n",
       "      <td>regulation</td>\n",
       "      <td>result</td>\n",
       "      <td>legal</td>\n",
       "      <td>related</td>\n",
       "      <td>department</td>\n",
       "      <td>governance</td>\n",
       "      <td>culties</td>\n",
       "      <td>xgeneral</td>\n",
       "      <td>henkel</td>\n",
       "      <td>reclass</td>\n",
       "      <td>analysed</td>\n",
       "      <td>capit</td>\n",
       "      <td>higher</td>\n",
       "      <td>barclays</td>\n",
       "      <td>using</td>\n",
       "      <td>baltic</td>\n",
       "      <td>committee</td>\n",
       "      <td>surveillance</td>\n",
       "    </tr>\n",
       "  </tbody>\n",
       "</table>\n",
       "</div>"
      ],
      "text/plain": [
       "     MNB_count                           MNB_tfidf                          \\\n",
       "            y1          y2          y3          y1          y2          y3   \n",
       "0         risk         tax         tax       group       group       group   \n",
       "1          tax        risk        risk   financial  management  management   \n",
       "2        group       group       group  management     company     control   \n",
       "3    financial   financial  management    business   financial  department   \n",
       "4   management  management     control       legal    business   committee   \n",
       "5     business     company   financial     control         law      policy   \n",
       "6       change      change      policy     company   authority  compliance   \n",
       "7      company    business   committee      change      change    internal   \n",
       "8        legal   provision    business         law     control       audit   \n",
       "9         rate      income       audit  regulation       audit   authority   \n",
       "10     control        rate  compliance   committee      policy    business   \n",
       "11   provision   liability   provision  compliance   committee   financial   \n",
       "12       asset         law    internal        rate      income    strategy   \n",
       "13   liability     control  department  regulatory  compliance       legal   \n",
       "14      income   authority     company       audit   provision   provision   \n",
       "15         law       audit        rate      policy   liability     company   \n",
       "16     related       asset      change     country       legal   liability   \n",
       "17       audit       legal   authority   liability  regulation       board   \n",
       "18      market      policy   liability   including      result      change   \n",
       "19  regulation      result       legal     related  department  governance   \n",
       "\n",
       "          PA_count                                       PA_tfidf  \\\n",
       "                y1             y2               y3             y1   \n",
       "0       authorized   supplemented      restitution       introduc   \n",
       "1           contra         elster            rubis     authorized   \n",
       "2         regarded       analysed         opposite         column   \n",
       "3           column         curred      mandatorily          onnel   \n",
       "4   postemployment       parental     xastatements   successively   \n",
       "5            ected    importation       redundancy           hort   \n",
       "6           secure      carefully        minimises       regarded   \n",
       "7         leighton       compensa              rom          raise   \n",
       "8          earning       producer     supplemented      servicing   \n",
       "9           elster        reverse        regularly  econciliation   \n",
       "10            xasa        claimed         pandemic  replenishment   \n",
       "11       iteration            iti             gilt      iteration   \n",
       "12            adop            fap  reconcilliation      cumulated   \n",
       "13      critically         hourly          engages   supplemented   \n",
       "14     accountable  strengthening          djusted     prescribed   \n",
       "15            ency      virtually     particularly           dget   \n",
       "16      prescribed     complexity      competitive       leighton   \n",
       "17    supplemented   complianceen             gror         contra   \n",
       "18   econciliation            htm       complexity           xasa   \n",
       "19         culties       xgeneral           henkel        reclass   \n",
       "\n",
       "                                      SVM_count                                \\\n",
       "               y2               y3           y1            y2              y3   \n",
       "0         uipment           anking        repor         repor         officer   \n",
       "1          curren         opposite      storage           mai           chief   \n",
       "2          curred  reconcilliation           sa         owing       financial   \n",
       "3           nking         xlooking       parent      capacity         ensures   \n",
       "4         claimed              ues     activity          case           field   \n",
       "5          hourly        dependent     relating    identified  identification   \n",
       "6         reverse         appetite       income       segment         applied   \n",
       "7            drop              rom     xchanges      increase       correctly   \n",
       "8        vertible       firstgroup    criterion       hedging      reputation   \n",
       "9   strengthening      mandatorily         year    determined         private   \n",
       "10       xgeneral          xaevent      servizi      internal       performed   \n",
       "11   supplemented      restitution      azienda   institution      evaluation   \n",
       "12          erage            autho        basis     resulting       considers   \n",
       "13   complianceen             gilt  institution           new    specifically   \n",
       "14            iti     xastatements   management  intellectual         process   \n",
       "15       parental          anomaly        asset    disclosure            loan   \n",
       "16     challenged     supplemented       mainly           gbl         profile   \n",
       "17        curreny        principle         loss      goodwill        barclays   \n",
       "18     xataxation       complexity     deferral    consistent             tax   \n",
       "19       analysed            capit       higher      barclays           using   \n",
       "\n",
       "       SVM_tfidf                                 \n",
       "              y1           y2                y3  \n",
       "0     realizable         sell              gilt  \n",
       "1       introduc         vent            deferr  \n",
       "2          raise    carefully         oversight  \n",
       "3    calculation      appropr           private  \n",
       "4         inside         iate         integrity  \n",
       "5           proj          pbt            brazil  \n",
       "6           vent  mandatorily               rom  \n",
       "7            ppe      related             model  \n",
       "8          speci        topic              garm  \n",
       "9       terminal         loan          position  \n",
       "10         wbcsd    portfolio            vision  \n",
       "11          care          att              oecd  \n",
       "12     iteration   xataxation  reviewgovernance  \n",
       "13       reserve    discussed            benefi  \n",
       "14         ected      covered       demonstrate  \n",
       "15         world     activity           invoked  \n",
       "16  necessitates      uipment             thing  \n",
       "17          tion           ct        underlying  \n",
       "18      strategy        nking       significant  \n",
       "19        baltic    committee      surveillance  "
      ]
     },
     "execution_count": 27,
     "metadata": {},
     "output_type": "execute_result"
    }
   ],
   "source": [
    "df = pd.DataFrame()\n",
    "for y, features in most_predictive_features.items():\n",
    "    _df = pd.DataFrame(features).applymap(lambda x: x[1])\n",
    "    _df.columns = pd.MultiIndex.from_product([_df.columns, [y]])\n",
    "    df = pd.concat([df, _df], axis=1)\n",
    "df = df.sort_index(axis=1, level=0)\n",
    "df"
   ]
  },
  {
   "cell_type": "markdown",
   "metadata": {
    "slideshow": {
     "slide_type": "slide"
    },
    "tags": []
   },
   "source": [
    "## Gazetteer versus Random Guess\n",
    "\n",
    "### Gazetteer\n",
    "- Gazetteers are named entity dictionaries.\n",
    "- They can be interpreted as external knowledge source.\n",
    "- They include a vast amount of information, as for example from Wikipedia (see for example [Higashinaka (2012)](https://aclanthology.org/C12-1071.pdf)\n",
    "- We follow a very simple strategy:\n",
    "    - We determine if a paragraph can be considered as containing references to tax risk management or not.\n",
    "    - If $c$ keywords are present in the text then it can be considered as tax risk management."
   ]
  },
  {
   "cell_type": "code",
   "execution_count": 28,
   "metadata": {
    "collapsed": false,
    "jupyter": {
     "outputs_hidden": false
    },
    "pycharm": {
     "name": "#%%\n"
    },
    "slideshow": {
     "slide_type": "skip"
    },
    "tags": []
   },
   "outputs": [],
   "source": [
    "train_df = pd.read_csv('data/interim/tax_risk_train.csv')\n",
    "test_df = pd.read_csv('data/interim/tax_risk_test.csv')"
   ]
  },
  {
   "cell_type": "code",
   "execution_count": 29,
   "metadata": {
    "collapsed": false,
    "jupyter": {
     "outputs_hidden": false
    },
    "pycharm": {
     "name": "#%%\n"
    },
    "slideshow": {
     "slide_type": "subslide"
    },
    "tags": []
   },
   "outputs": [],
   "source": [
    "def gazetteer(text, count=1):\n",
    "    \"\"\" \n",
    "    Args:\n",
    "        text: `string` text to analyze\n",
    "        count: `int` the number of keywords to match\n",
    "\n",
    "    Returns:\n",
    "        `Boolean`\n",
    "    \"\"\"\n",
    "    gazetteer = [\"tax\", \"risk\", \"risks\", \"group\", \"financial\",\n",
    "                 \"management\", \"changes\", \"business\", \"legal\",\n",
    "                 \"company\", \"authorities\", \"compliance\",\n",
    "                 \"taxes\", \"regulations\", \"law\", \"related\", \"control\", \"laws\", \"committee\"]\n",
    "\n",
    "    # counter\n",
    "    c = 0\n",
    "    for g in gazetteer:\n",
    "        if g in text:\n",
    "            c += 1\n",
    "    if c == count:\n",
    "        return 1\n",
    "    else:\n",
    "        return 0"
   ]
  },
  {
   "cell_type": "markdown",
   "metadata": {
    "slideshow": {
     "slide_type": "skip"
    },
    "tags": []
   },
   "source": [
    "### Random Guess"
   ]
  },
  {
   "cell_type": "code",
   "execution_count": 30,
   "metadata": {
    "slideshow": {
     "slide_type": "skip"
    },
    "tags": []
   },
   "outputs": [],
   "source": [
    "def random_guess(x):\n",
    "    \"\"\"Randomly guess 0 or 1.\"\"\"\n",
    "    return np.random.randint(2)"
   ]
  },
  {
   "cell_type": "markdown",
   "metadata": {
    "slideshow": {
     "slide_type": "skip"
    },
    "tags": []
   },
   "source": [
    "### Evaluation Gazetteer vs. Random Guess"
   ]
  },
  {
   "cell_type": "code",
   "execution_count": 31,
   "metadata": {
    "slideshow": {
     "slide_type": "skip"
    },
    "tags": []
   },
   "outputs": [],
   "source": [
    "def evaluate_method(X, y, func):\n",
    "    \"\"\"Returns classification metrics for an arbitrary X->y mapping function.\"\"\"\n",
    "    y_pred = X.map(func)\n",
    "    accuracy = accuracy_score(y, y_pred, normalize=True, sample_weight=None)\n",
    "    precision, recall, f1, _ = precision_recall_fscore_support(y, y_pred, average=\"weighted\")\n",
    "    return {\"accuracy\": accuracy, \"precision\": precision, \"recall\": recall, \"f-score\": f1}\n",
    "\n",
    "\n",
    "gazetteer_results = {}\n",
    "for y in [\"y1\", \"y2\", \"y3\"]:\n",
    "    gazetteer_results[y] = {}\n",
    "    gazetteer_results[y][\"train\"] = {}\n",
    "    gazetteer_results[y][\"train\"][\"random_guess\"] = evaluate_method(train_df[\"x\"], train_df[y], random_guess)\n",
    "    gazetteer_results[y][\"train\"][\"gazetteer\"] = evaluate_method(train_df[\"x\"], train_df[y], gazetteer)\n",
    "    gazetteer_results[y][\"test\"] = {}\n",
    "    gazetteer_results[y][\"test\"][\"random_guess\"] = evaluate_method(test_df[\"x\"], test_df[y], random_guess)\n",
    "    gazetteer_results[y][\"test\"][\"gazetteer\"] = evaluate_method(test_df[\"x\"], test_df[y], gazetteer)"
   ]
  },
  {
   "cell_type": "markdown",
   "metadata": {
    "slideshow": {
     "slide_type": "subslide"
    },
    "tags": []
   },
   "source": [
    "### Visualization\n",
    "\n",
    "🤓: Compare the performance of the Gazetteer against those one of the baseline models."
   ]
  },
  {
   "cell_type": "code",
   "execution_count": 32,
   "metadata": {},
   "outputs": [],
   "source": [
    "def visualize(y_i, verbose=True, ax=None):\n",
    "    x = ['Gazetteer: Train', 'Random Guess: Train', 'Gazetteer: Test', 'Random Guess: Test']\n",
    "    y = [gazetteer_results[y_i][\"train\"][\"gazetteer\"][\"accuracy\"],\n",
    "         gazetteer_results[y_i][\"train\"][\"random_guess\"][\"accuracy\"],\n",
    "         gazetteer_results[y_i][\"test\"][\"gazetteer\"][\"accuracy\"],\n",
    "         gazetteer_results[y_i][\"test\"][\"random_guess\"][\"accuracy\"]\n",
    "         ]\n",
    "    ax = sns.barplot(x, y, ax=ax)\n",
    "    ax.set(xlabel='Methods', ylabel='Accuracy')\n",
    "    ax.set_title(f'{y_i}')\n",
    "    ax.set(ylim=(0, 1))\n",
    "    ax.tick_params(labelrotation=25)\n",
    "    return ax"
   ]
  },
  {
   "cell_type": "code",
   "execution_count": 33,
   "metadata": {
    "collapsed": false,
    "jupyter": {
     "outputs_hidden": false
    },
    "pycharm": {
     "name": "#%%\n"
    },
    "slideshow": {
     "slide_type": "subslide"
    },
    "tags": []
   },
   "outputs": [
    {
     "data": {
      "image/png": "[encoded data removed]",
      "text/plain": [
       "<Figure size 720x360 with 3 Axes>"
      ]
     },
     "metadata": {
      "needs_background": "light"
     },
     "output_type": "display_data"
    }
   ],
   "source": [
    "fig, ax = plt.subplots(1, 3, figsize=(10, 5))\n",
    "visualize('y1', ax=ax[0])\n",
    "visualize('y2', ax=ax[1])\n",
    "visualize('y3', ax=ax[2])\n",
    "plt.tight_layout()"
   ]
  },
  {
   "cell_type": "code",
   "execution_count": 34,
   "metadata": {
    "slideshow": {
     "slide_type": "subslide"
    },
    "tags": []
   },
   "outputs": [
    {
     "data": {
      "text/html": [
       "<div>\n",
       "<style scoped>\n",
       "    .dataframe tbody tr th:only-of-type {\n",
       "        vertical-align: middle;\n",
       "    }\n",
       "\n",
       "    .dataframe tbody tr th {\n",
       "        vertical-align: top;\n",
       "    }\n",
       "\n",
       "    .dataframe thead th {\n",
       "        text-align: right;\n",
       "    }\n",
       "</style>\n",
       "<table border=\"1\" class=\"dataframe\">\n",
       "  <thead>\n",
       "    <tr style=\"text-align: right;\">\n",
       "      <th></th>\n",
       "      <th>random_guess</th>\n",
       "      <th>gazetteer</th>\n",
       "    </tr>\n",
       "  </thead>\n",
       "  <tbody>\n",
       "    <tr>\n",
       "      <th>accuracy</th>\n",
       "      <td>0.506550</td>\n",
       "      <td>0.819808</td>\n",
       "    </tr>\n",
       "    <tr>\n",
       "      <th>precision</th>\n",
       "      <td>0.704564</td>\n",
       "      <td>0.672324</td>\n",
       "    </tr>\n",
       "    <tr>\n",
       "      <th>recall</th>\n",
       "      <td>0.506550</td>\n",
       "      <td>0.819808</td>\n",
       "    </tr>\n",
       "    <tr>\n",
       "      <th>f-score</th>\n",
       "      <td>0.563203</td>\n",
       "      <td>0.738777</td>\n",
       "    </tr>\n",
       "  </tbody>\n",
       "</table>\n",
       "</div>"
      ],
      "text/plain": [
       "           random_guess  gazetteer\n",
       "accuracy       0.506550   0.819808\n",
       "precision      0.704564   0.672324\n",
       "recall         0.506550   0.819808\n",
       "f-score        0.563203   0.738777"
      ]
     },
     "execution_count": 34,
     "metadata": {},
     "output_type": "execute_result"
    }
   ],
   "source": [
    "pd.DataFrame(gazetteer_results[\"y1\"][\"test\"])"
   ]
  },
  {
   "cell_type": "markdown",
   "metadata": {
    "slideshow": {
     "slide_type": "skip"
    },
    "tags": []
   },
   "source": [
    "## Save results\n",
    "(to be used in Session 4)"
   ]
  },
  {
   "cell_type": "code",
   "execution_count": 35,
   "metadata": {
    "slideshow": {
     "slide_type": "skip"
    },
    "tags": []
   },
   "outputs": [],
   "source": [
    "for y in [\"y1\", \"y2\", \"y3\"]:\n",
    "    results[y][\"gazetteer\"] = gazetteer_results[y][\"test\"][\"gazetteer\"]"
   ]
  },
  {
   "cell_type": "code",
   "execution_count": 37,
   "metadata": {
    "slideshow": {
     "slide_type": "skip"
    },
    "tags": []
   },
   "outputs": [],
   "source": [
    "import pickle\n",
    "\n",
    "with open('data/interim/session2_results.pickle', 'wb') as handle:\n",
    "    pickle.dump(results, handle)"
   ]
  },
  {
   "cell_type": "markdown",
   "metadata": {
    "slideshow": {
     "slide_type": "slide"
    },
    "tags": []
   },
   "source": [
    "# It's your turn! 🧑‍💻 ~20'"
   ]
  }
 ],
 "metadata": {
  "celltoolbar": "Slideshow",
  "hide_code_all_hidden": false,
  "kernelspec": {
   "display_name": "Python 3 (ipykernel)",
   "language": "python",
   "name": "python3"
  },
  "language_info": {
   "codemirror_mode": {
    "name": "ipython",
    "version": 3
   },
   "file_extension": ".py",
   "mimetype": "text/x-python",
   "name": "python",
   "nbconvert_exporter": "python",
   "pygments_lexer": "ipython3",
   "version": "3.9.6"
  },
  "toc": {
   "base_numbering": 1,
   "nav_menu": {},
   "number_sections": true,
   "sideBar": true,
   "skip_h1_title": false,
   "title_cell": "Table of Contents",
   "title_sidebar": "Contents",
   "toc_cell": false,
   "toc_position": {
    "height": "calc(100% - 180px)",
    "left": "10px",
    "top": "150px",
    "width": "319px"
   },
   "toc_section_display": true,
   "toc_window_display": true
  },
  "toc-autonumbering": false,
  "toc-showtags": false
 },
 "nbformat": 4,
 "nbformat_minor": 4
}